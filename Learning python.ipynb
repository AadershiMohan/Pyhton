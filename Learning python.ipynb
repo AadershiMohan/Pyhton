{
 "cells": [
  {
   "cell_type": "markdown",
   "metadata": {},
   "source": [
    "# Learning Python For Data Science "
   ]
  },
  {
   "cell_type": "markdown",
   "metadata": {},
   "source": [
    "Here we are going to start python core basics"
   ]
  },
  {
   "cell_type": "code",
   "execution_count": 1,
   "metadata": {},
   "outputs": [
    {
     "name": "stdout",
     "output_type": "stream",
     "text": [
      "Hey welcome to my world\n"
     ]
    }
   ],
   "source": [
    "print(\"Hey welcome to my world\")"
   ]
  },
  {
   "cell_type": "markdown",
   "metadata": {},
   "source": [
    "Here, in jupyter notebook we can write html, add images and write latex etc. and can download them separately."
   ]
  },
  {
   "cell_type": "markdown",
   "metadata": {},
   "source": [
    "# Variables "
   ]
  },
  {
   "cell_type": "code",
   "execution_count": 2,
   "metadata": {},
   "outputs": [
    {
     "name": "stdout",
     "output_type": "stream",
     "text": [
      "Variable   Type     Data/Info\n",
      "-----------------------------\n",
      "a          str      hello\n",
      "b          int      64\n",
      "c          float    90.2\n",
      "d          str      world\n",
      "e          int      40\n",
      "f          str      welcome\n"
     ]
    }
   ],
   "source": [
    "a = \"hello\"\n",
    "b = 64\n",
    "c = 90.2\n",
    "d = 'world'\n",
    "e = 40\n",
    "f = '''welcome'''\n",
    "%whos"
   ]
  },
  {
   "cell_type": "markdown",
   "metadata": {},
   "source": [
    "# Some Useful functions"
   ]
  },
  {
   "cell_type": "code",
   "execution_count": 3,
   "metadata": {},
   "outputs": [
    {
     "name": "stdout",
     "output_type": "stream",
     "text": [
      "6\n",
      "4.126\n",
      "(5, 2)\n",
      "(16, 1)\n",
      "16\n",
      "1\n",
      "True\n",
      "False\n",
      "True\n",
      "True\n",
      "False\n",
      "8\n",
      "0\n",
      "1\n",
      "Help on built-in function pow in module builtins:\n",
      "\n",
      "pow(base, exp, mod=None)\n",
      "    Equivalent to base**exp with 2 arguments or base**exp % mod with 3 arguments\n",
      "    \n",
      "    Some types, such as ints, are able to use a more efficient algorithm when\n",
      "    invoked using the three argument form.\n",
      "\n",
      "Help on method raw_input in module ipykernel.kernelbase:\n",
      "\n",
      "raw_input(prompt='') method of ipykernel.ipkernel.IPythonKernel instance\n",
      "    Forward raw_input to frontends\n",
      "    \n",
      "    Raises\n",
      "    ------\n",
      "    StdinNotImplentedError if active frontend doesn't support stdin.\n",
      "\n"
     ]
    }
   ],
   "source": [
    "# 01 round() function\n",
    "print(round(5.6231))\n",
    "print(round(4.125598,3))\n",
    "\n",
    "# 02 - divmod(x,y)\n",
    "print(divmod(27,5))   # 5 is quotient, 2 is remainder .....   Ans:  (5,2) that is a tuple.\n",
    "A = divmod(33,2)\n",
    "print(A)\n",
    "print(A[0])\n",
    "print(A[1])\n",
    "\n",
    "# 03 - isinstance()\n",
    "print(isinstance(1,int))\n",
    "print(isinstance(1.0,int))\n",
    "print(isinstance(2.3,(int,float)))\n",
    "print(isinstance(3.4,(float,int)))\n",
    "print(isinstance(2+3j,(int,float)))\n",
    "\n",
    "# 04 - pow(x,y,z)  x raise to the power y and remainder by z\n",
    "print(pow(2,3))     # here 2 to the power 3 is 8\n",
    "print(pow(2,3,4))   # here 2 to the power 3 is 8 when divided by 4 gives remainder 0.\n",
    "print(pow(2,3,7))\n",
    "\n",
    "# we can see how can we use the built in function.\n",
    "help(pow)\n",
    "help(input)"
   ]
  },
  {
   "cell_type": "markdown",
   "metadata": {},
   "source": [
    "# NUMPY"
   ]
  },
  {
   "cell_type": "code",
   "execution_count": 2,
   "metadata": {},
   "outputs": [
    {
     "name": "stdout",
     "output_type": "stream",
     "text": [
      "[1 2 3 4 5]\n",
      "[1. 6. 3. 4. 9.]\n",
      "<class 'numpy.ndarray'>\n",
      "<class 'numpy.ndarray'>\n",
      "int32\n",
      "float32\n"
     ]
    }
   ],
   "source": [
    "import numpy as np                  # Numpy is faster\n",
    "a = np.array([1,2,3,4,5],dtype='i')           \n",
    "b = np.array((1,6,3,4,9),dtype='f')\n",
    "print(a)\n",
    "print(b) \n",
    "print(type(a))\n",
    "print(type(b))\n",
    "print(a.dtype)\n",
    "print(b.dtype)"
   ]
  },
  {
   "cell_type": "markdown",
   "metadata": {},
   "source": [
    "NUMPY  (DIMESIONS)"
   ]
  },
  {
   "cell_type": "code",
   "execution_count": 5,
   "metadata": {},
   "outputs": [
    {
     "name": "stdout",
     "output_type": "stream",
     "text": [
      "a.ndim =  2\n",
      "3\n",
      "b.ndim =  2\n",
      "6\n",
      "c.ndim =  3\n",
      "-3\n",
      "1\n",
      "0\n",
      "\n",
      "Variable   Type       Data/Info\n",
      "-------------------------------\n",
      "a          ndarray    4x3: 12 elems, type `int32`, 48 bytes\n",
      "b          ndarray    2x3: 6 elems, type `int32`, 24 bytes\n",
      "c          ndarray    2x3x3: 18 elems, type `int32`, 72 bytes\n",
      "d          ndarray    1: 1 elems, type `int32`, 4 bytes\n",
      "e          ndarray    : 1 elems, type `int32`, 4 bytes\n"
     ]
    }
   ],
   "source": [
    "import numpy as np\n",
    "a = np.array([[1,2,3],[4,5,6],[0,0,-1],[9,3,5]])\n",
    "print(\"a.ndim = \",a.ndim)\n",
    "print(a[0,2])\n",
    "\n",
    "b = np.array([[1,2,3],[4,5,6]])\n",
    "print(\"b.ndim = \",b.ndim)\n",
    "print(b[1,2])\n",
    "\n",
    "c = np.array([[[1,2,3],[4,5,6],[0,0,-1]],[[-1,-2,-3],[-4,-5,-6],[0,0,1]]])\n",
    "print(\"c.ndim = \",c.ndim)\n",
    "print(c[1,0,2])\n",
    "\n",
    "d = np.array([2])\n",
    "print(d.ndim)\n",
    "\n",
    "e = np.array(3)\n",
    "print(e.ndim)\n",
    "print('')\n",
    "%whos   # ndarray is n-dimesional array."
   ]
  },
  {
   "cell_type": "markdown",
   "metadata": {},
   "source": [
    "NUMPY (SHAPE and SIZE)"
   ]
  },
  {
   "cell_type": "code",
   "execution_count": 5,
   "metadata": {},
   "outputs": [
    {
     "name": "stdout",
     "output_type": "stream",
     "text": [
      "(4, 3)\n",
      "4\n",
      "12\n",
      "48\n",
      "\n",
      "(2, 3)\n",
      "6\n",
      "24\n",
      "\n",
      "(2, 3, 3)\n",
      "2\n",
      "3\n",
      "<class 'numpy.ndarray'>\n",
      "18\n",
      "72\n",
      "\n",
      "(1,)\n",
      "1\n",
      "4\n",
      "\n",
      "()\n",
      "1\n",
      "4\n"
     ]
    }
   ],
   "source": [
    "import numpy as np\n",
    "#  here this shape represents  how many 2-dim arrays are there? in each 2-d how many 1-d arrays are there and in each 1-d how many elements are there?\n",
    "a = np.array([[1,2,3],[4,5,6],[0,0,-1],[9,3,5]])\n",
    "print(a.shape)              #  4 one-dim arrays and each has 3 elements\n",
    "print(a.shape[0])\n",
    "print(a.size)\n",
    "print(a.nbytes)\n",
    "print('')\n",
    "\n",
    "b = np.array([[1,2,3],[4,5,6]])   #  2 one-dim arrays and each has 3- elements\n",
    "print(b.shape)\n",
    "print(b.size)\n",
    "print(b.nbytes)\n",
    "print('')\n",
    "\n",
    "c = np.array([[[1,2,3],[4,5,6],[0,0,-1]],[[-1,-2,-3],[-4,-5,-6],[0,0,1]]])  \n",
    "print(c.shape)         # 2 two-dim arrays and each has 2 dim has 3 one dim arrays and each one arrays has 3 elements\n",
    "print(c.shape[0])\n",
    "print(c.shape[2])\n",
    "print(type(c))\n",
    "print(c.size)\n",
    "print(c.nbytes)\n",
    "print('')\n",
    "\n",
    "d = np.array([2])\n",
    "print(d.shape)\n",
    "print(d.size)\n",
    "print(d.nbytes)\n",
    "print('')\n",
    "\n",
    "e = np.array(3)\n",
    "print(e.shape)\n",
    "print(e.size)\n",
    "print(e.nbytes)\n"
   ]
  },
  {
   "cell_type": "markdown",
   "metadata": {},
   "source": [
    "NUMPY  ( np.arange() ,  np.random ,  np.reshape )"
   ]
  },
  {
   "cell_type": "code",
   "execution_count": 6,
   "metadata": {},
   "outputs": [],
   "source": [
    "import numpy as np"
   ]
  },
  {
   "cell_type": "code",
   "execution_count": 8,
   "metadata": {},
   "outputs": [
    {
     "name": "stdout",
     "output_type": "stream",
     "text": [
      "[ 0  1  2  3  4  5  6  7  8  9 10 11 12 13 14 15 16 17 18 19 20 21 22 23\n",
      " 24 25 26 27 28 29 30 31 32 33 34 35 36 37 38 39 40 41 42 43 44 45 46 47\n",
      " 48 49 50 51 52 53 54 55 56 57 58 59 60 61 62 63 64 65 66 67 68 69 70 71\n",
      " 72 73 74 75 76 77 78 79 80 81 82 83 84 85 86 87 88 89 90 91 92 93 94 95\n",
      " 96 97 98 99]\n"
     ]
    }
   ],
   "source": [
    "A = np.arange(100)\n",
    "print(A)"
   ]
  },
  {
   "cell_type": "code",
   "execution_count": 9,
   "metadata": {},
   "outputs": [
    {
     "name": "stdout",
     "output_type": "stream",
     "text": [
      "[20 21 22 23 24 25 26 27 28 29 30 31 32 33 34 35 36 37 38 39 40 41 42 43\n",
      " 44 45 46 47 48 49 50 51 52 53 54 55 56 57 58 59 60 61 62 63 64 65 66 67\n",
      " 68 69 70 71 72 73 74 75 76 77 78 79 80 81 82 83 84 85 86 87 88 89 90 91\n",
      " 92 93 94 95 96 97 98 99]\n"
     ]
    }
   ],
   "source": [
    "A = np.arange(20,100)\n",
    "print(A)"
   ]
  },
  {
   "cell_type": "code",
   "execution_count": 10,
   "metadata": {},
   "outputs": [
    {
     "name": "stdout",
     "output_type": "stream",
     "text": [
      "[20 23 26 29 32 35 38 41 44 47 50 53 56 59 62 65 68 71 74 77 80 83 86 89\n",
      " 92 95 98]\n"
     ]
    }
   ],
   "source": [
    "A = np.arange(20,100,3)    # similar to for i in range(20,100,3)\n",
    "print(A)"
   ]
  },
  {
   "cell_type": "code",
   "execution_count": 12,
   "metadata": {},
   "outputs": [
    {
     "name": "stdout",
     "output_type": "stream",
     "text": [
      "range(0, 10)\n",
      "[0, 1, 2, 3, 4, 5, 6, 7, 8, 9]\n"
     ]
    }
   ],
   "source": [
    "# note\n",
    "print(range(10))   # this will not give list but gives iterator\n",
    "print(list(range(10)))   "
   ]
  },
  {
   "cell_type": "markdown",
   "metadata": {},
   "source": [
    "NP.RANDOM "
   ]
  },
  {
   "cell_type": "code",
   "execution_count": 14,
   "metadata": {},
   "outputs": [
    {
     "name": "stdout",
     "output_type": "stream",
     "text": [
      "[4 0 9 1 2 5 7 3 6 8]\n"
     ]
    }
   ],
   "source": [
    "B = np.random.permutation(np.arange(10))\n",
    "print(B)"
   ]
  },
  {
   "cell_type": "code",
   "execution_count": 15,
   "metadata": {},
   "outputs": [],
   "source": [
    "B = np.random.randint? # this will tell us about how to use this"
   ]
  },
  {
   "cell_type": "code",
   "execution_count": 18,
   "metadata": {},
   "outputs": [
    {
     "name": "stdout",
     "output_type": "stream",
     "text": [
      "67\n"
     ]
    },
    {
     "data": {
      "text/plain": [
       "int"
      ]
     },
     "execution_count": 18,
     "metadata": {},
     "output_type": "execute_result"
    }
   ],
   "source": [
    "B = np.random.randint(20,300)\n",
    "print(B)\n",
    "type(B)"
   ]
  },
  {
   "cell_type": "code",
   "execution_count": 8,
   "metadata": {},
   "outputs": [
    {
     "name": "stdout",
     "output_type": "stream",
     "text": [
      "[0.55088332 0.36750212 0.49060809 0.27382099 0.45591458 0.93701854\n",
      " 0.33664882 0.41936925 0.25653379 0.02294261 0.13368858 0.55417341\n",
      " 0.31157066 0.50113904 0.99527868 0.41487115 0.05909165 0.48895723\n",
      " 0.65785885 0.84455558 0.16022792 0.5946607  0.34732188 0.94661509\n",
      " 0.99097888 0.6927203  0.44068347 0.55931094 0.56771379 0.84042752\n",
      " 0.45159827 0.64130436 0.51889032 0.88794311 0.42632174 0.04472802\n",
      " 0.90419485 0.3702458  0.42471104 0.77060615 0.69147863 0.92977798\n",
      " 0.93735463 0.87044385 0.36643127 0.01104861 0.82162994 0.54810089\n",
      " 0.58513305 0.54491201 0.65824263 0.49094531 0.33252505 0.48237039\n",
      " 0.25393735 0.68861122 0.93019263 0.2767763  0.90168012 0.77883951\n",
      " 0.56269422 0.73556834 0.80246499 0.91241562 0.20506134 0.9194954\n",
      " 0.99708381 0.40877039 0.37423205 0.87431043 0.35553334 0.3411273\n",
      " 0.14005818 0.74692965 0.96101976 0.51155225 0.74632681 0.37269415\n",
      " 0.85994874 0.5891961  0.89255854 0.76341113 0.81403356 0.44051639\n",
      " 0.40102674 0.81460995 0.9767226  0.25807882 0.69405932 0.40703725\n",
      " 0.36617578 0.6676693  0.32504703 0.28050397 0.125263   0.29488076\n",
      " 0.78677647 0.51908659 0.56324814 0.568138  ]\n"
     ]
    }
   ],
   "source": [
    "C = np.random.rand(100)\n",
    "print(C)"
   ]
  },
  {
   "cell_type": "code",
   "execution_count": 9,
   "metadata": {},
   "outputs": [
    {
     "data": {
      "text/plain": [
       "(array([1., 1., 0., 1., 1., 0., 0., 0., 0., 0., 0., 1., 1., 1., 0., 1., 0.,\n",
       "        0., 0., 1., 0., 0., 0., 0., 2., 1., 2., 1., 1., 0., 1., 1., 1., 2.,\n",
       "        2., 0., 6., 0., 0., 1., 3., 2., 1., 2., 1., 1., 0., 1., 3., 1., 1.,\n",
       "        2., 0., 0., 3., 3., 3., 0., 2., 1., 0., 0., 0., 1., 0., 2., 1., 0.,\n",
       "        1., 3., 0., 0., 0., 1., 2., 0., 1., 2., 1., 0., 1., 2., 1., 0., 2.,\n",
       "        0., 1., 2., 1., 1., 2., 1., 1., 4., 1., 0., 1., 1., 0., 3.]),\n",
       " array([0.01104861, 0.02090896, 0.03076931, 0.04062967, 0.05049002,\n",
       "        0.06035037, 0.07021072, 0.08007107, 0.08993143, 0.09979178,\n",
       "        0.10965213, 0.11951248, 0.12937283, 0.13923319, 0.14909354,\n",
       "        0.15895389, 0.16881424, 0.17867459, 0.18853495, 0.1983953 ,\n",
       "        0.20825565, 0.218116  , 0.22797635, 0.23783671, 0.24769706,\n",
       "        0.25755741, 0.26741776, 0.27727811, 0.28713847, 0.29699882,\n",
       "        0.30685917, 0.31671952, 0.32657987, 0.33644023, 0.34630058,\n",
       "        0.35616093, 0.36602128, 0.37588163, 0.38574199, 0.39560234,\n",
       "        0.40546269, 0.41532304, 0.42518339, 0.43504375, 0.4449041 ,\n",
       "        0.45476445, 0.4646248 , 0.47448515, 0.48434551, 0.49420586,\n",
       "        0.50406621, 0.51392656, 0.52378691, 0.53364727, 0.54350762,\n",
       "        0.55336797, 0.56322832, 0.57308867, 0.58294903, 0.59280938,\n",
       "        0.60266973, 0.61253008, 0.62239044, 0.63225079, 0.64211114,\n",
       "        0.65197149, 0.66183184, 0.6716922 , 0.68155255, 0.6914129 ,\n",
       "        0.70127325, 0.7111336 , 0.72099396, 0.73085431, 0.74071466,\n",
       "        0.75057501, 0.76043536, 0.77029572, 0.78015607, 0.79001642,\n",
       "        0.79987677, 0.80973712, 0.81959748, 0.82945783, 0.83931818,\n",
       "        0.84917853, 0.85903888, 0.86889924, 0.87875959, 0.88861994,\n",
       "        0.89848029, 0.90834064, 0.918201  , 0.92806135, 0.9379217 ,\n",
       "        0.94778205, 0.9576424 , 0.96750276, 0.97736311, 0.98722346,\n",
       "        0.99708381]),\n",
       " <a list of 100 Patch objects>)"
      ]
     },
     "execution_count": 9,
     "metadata": {},
     "output_type": "execute_result"
    },
    {
     "data": {
      "image/png": "[encoded data removed]",
      "text/plain": [
       "<Figure size 432x288 with 1 Axes>"
      ]
     },
     "metadata": {
      "needs_background": "light"
     },
     "output_type": "display_data"
    }
   ],
   "source": [
    "import matplotlib.pyplot as plt\n",
    "plt.hist(C,bins=100)"
   ]
  },
  {
   "cell_type": "code",
   "execution_count": 6,
   "metadata": {},
   "outputs": [
    {
     "data": {
      "text/plain": [
       "(array([ 1.,  0.,  0.,  0.,  0.,  0.,  1.,  0.,  0.,  0.,  0.,  0.,  0.,\n",
       "         0.,  1.,  0.,  0.,  0.,  0.,  0.,  0.,  0.,  0.,  0.,  2.,  0.,\n",
       "         1.,  0.,  0.,  1.,  1.,  0.,  1.,  0.,  0.,  1.,  1.,  0.,  2.,\n",
       "         1.,  0.,  2.,  1.,  1.,  1.,  4.,  1.,  4.,  3.,  3.,  9.,  0.,\n",
       "         2.,  2.,  3.,  5.,  4.,  4.,  6.,  1.,  8.,  4.,  7.,  5.,  7.,\n",
       "         4.,  5.,  5.,  5.,  8.,  5.,  6.,  6.,  7.,  8.,  8.,  3.,  6.,\n",
       "         8., 11.,  6.,  5., 12.,  8.,  9., 11., 10.,  8., 13., 15., 14.,\n",
       "        11., 10., 15., 11., 14., 16., 16., 12., 13.,  9., 11.,  6., 15.,\n",
       "        10., 15., 14., 17., 16., 16., 12., 15., 12., 15., 11., 12., 10.,\n",
       "        19., 12.,  8., 10., 18., 10.,  8.,  9.,  6., 12.,  9., 14.,  9.,\n",
       "         9.,  7., 10., 10.,  5., 11.,  8.,  9.,  6.,  5.,  4.,  6.,  4.,\n",
       "         9., 12.,  6.,  5.,  5.,  6.,  6., 10.,  4.,  3.,  2.,  1.,  5.,\n",
       "         3.,  3.,  4.,  4.,  3.,  1.,  1.,  3.,  3.,  1.,  1.,  0.,  2.,\n",
       "         3.,  2.,  4.,  0.,  1.,  0.,  0.,  1.,  0.,  0.,  0.,  0.,  0.,\n",
       "         1.,  0.,  0.,  1.,  1.,  0.,  1.,  0.,  0.,  0.,  1.,  0.,  0.,\n",
       "         0.,  0.,  1.,  0.,  1.]),\n",
       " array([-3.52692085, -3.4935437 , -3.46016655, -3.4267894 , -3.39341225,\n",
       "        -3.3600351 , -3.32665795, -3.29328079, -3.25990364, -3.22652649,\n",
       "        -3.19314934, -3.15977219, -3.12639504, -3.09301789, -3.05964074,\n",
       "        -3.02626359, -2.99288644, -2.95950929, -2.92613214, -2.89275498,\n",
       "        -2.85937783, -2.82600068, -2.79262353, -2.75924638, -2.72586923,\n",
       "        -2.69249208, -2.65911493, -2.62573778, -2.59236063, -2.55898348,\n",
       "        -2.52560633, -2.49222918, -2.45885202, -2.42547487, -2.39209772,\n",
       "        -2.35872057, -2.32534342, -2.29196627, -2.25858912, -2.22521197,\n",
       "        -2.19183482, -2.15845767, -2.12508052, -2.09170337, -2.05832621,\n",
       "        -2.02494906, -1.99157191, -1.95819476, -1.92481761, -1.89144046,\n",
       "        -1.85806331, -1.82468616, -1.79130901, -1.75793186, -1.72455471,\n",
       "        -1.69117756, -1.6578004 , -1.62442325, -1.5910461 , -1.55766895,\n",
       "        -1.5242918 , -1.49091465, -1.4575375 , -1.42416035, -1.3907832 ,\n",
       "        -1.35740605, -1.3240289 , -1.29065175, -1.2572746 , -1.22389744,\n",
       "        -1.19052029, -1.15714314, -1.12376599, -1.09038884, -1.05701169,\n",
       "        -1.02363454, -0.99025739, -0.95688024, -0.92350309, -0.89012594,\n",
       "        -0.85674879, -0.82337163, -0.78999448, -0.75661733, -0.72324018,\n",
       "        -0.68986303, -0.65648588, -0.62310873, -0.58973158, -0.55635443,\n",
       "        -0.52297728, -0.48960013, -0.45622298, -0.42284583, -0.38946867,\n",
       "        -0.35609152, -0.32271437, -0.28933722, -0.25596007, -0.22258292,\n",
       "        -0.18920577, -0.15582862, -0.12245147, -0.08907432, -0.05569717,\n",
       "        -0.02232002,  0.01105714,  0.04443429,  0.07781144,  0.11118859,\n",
       "         0.14456574,  0.17794289,  0.21132004,  0.24469719,  0.27807434,\n",
       "         0.31145149,  0.34482864,  0.37820579,  0.41158294,  0.4449601 ,\n",
       "         0.47833725,  0.5117144 ,  0.54509155,  0.5784687 ,  0.61184585,\n",
       "         0.645223  ,  0.67860015,  0.7119773 ,  0.74535445,  0.7787316 ,\n",
       "         0.81210875,  0.84548591,  0.87886306,  0.91224021,  0.94561736,\n",
       "         0.97899451,  1.01237166,  1.04574881,  1.07912596,  1.11250311,\n",
       "         1.14588026,  1.17925741,  1.21263456,  1.24601171,  1.27938887,\n",
       "         1.31276602,  1.34614317,  1.37952032,  1.41289747,  1.44627462,\n",
       "         1.47965177,  1.51302892,  1.54640607,  1.57978322,  1.61316037,\n",
       "         1.64653752,  1.67991468,  1.71329183,  1.74666898,  1.78004613,\n",
       "         1.81342328,  1.84680043,  1.88017758,  1.91355473,  1.94693188,\n",
       "         1.98030903,  2.01368618,  2.04706333,  2.08044048,  2.11381764,\n",
       "         2.14719479,  2.18057194,  2.21394909,  2.24732624,  2.28070339,\n",
       "         2.31408054,  2.34745769,  2.38083484,  2.41421199,  2.44758914,\n",
       "         2.48096629,  2.51434345,  2.5477206 ,  2.58109775,  2.6144749 ,\n",
       "         2.64785205,  2.6812292 ,  2.71460635,  2.7479835 ,  2.78136065,\n",
       "         2.8147378 ,  2.84811495,  2.8814921 ,  2.91486925,  2.94824641,\n",
       "         2.98162356,  3.01500071,  3.04837786,  3.08175501,  3.11513216,\n",
       "         3.14850931]),\n",
       " <a list of 200 Patch objects>)"
      ]
     },
     "execution_count": 6,
     "metadata": {},
     "output_type": "execute_result"
    },
    {
     "data": {
      "image/png": "[encoded data removed]",
      "text/plain": [
       "<Figure size 432x288 with 1 Axes>"
      ]
     },
     "metadata": {
      "needs_background": "light"
     },
     "output_type": "display_data"
    }
   ],
   "source": [
    "D = np.random.randn(1000)\n",
    "plt.hist(D,bins=200)"
   ]
  },
  {
   "cell_type": "code",
   "execution_count": 29,
   "metadata": {},
   "outputs": [
    {
     "name": "stdout",
     "output_type": "stream",
     "text": [
      "[[0.0384764  0.88804638 0.21464056]\n",
      " [0.11273273 0.32380065 0.94233568]]\n",
      "E.ndim =  2\n"
     ]
    }
   ],
   "source": [
    "E = np.random.rand(2,3)\n",
    "print(E)\n",
    "print(\"E.ndim = \",E.ndim)"
   ]
  },
  {
   "cell_type": "code",
   "execution_count": 31,
   "metadata": {},
   "outputs": [
    {
     "name": "stdout",
     "output_type": "stream",
     "text": [
      "[[[[0.24065093 0.02485688]\n",
      "   [0.70445062 0.91078896]\n",
      "   [0.59271969 0.21973017]\n",
      "   [0.23823799 0.51680882]]\n",
      "\n",
      "  [[0.76302997 0.59807239]\n",
      "   [0.77563824 0.09596346]\n",
      "   [0.57538226 0.20180408]\n",
      "   [0.82053785 0.45113639]]\n",
      "\n",
      "  [[0.26618942 0.00582474]\n",
      "   [0.19091861 0.50306419]\n",
      "   [0.76881131 0.79789513]\n",
      "   [0.35291678 0.88444784]]]\n",
      "\n",
      "\n",
      " [[[0.8915685  0.99996138]\n",
      "   [0.33937094 0.62970033]\n",
      "   [0.14207415 0.79447774]\n",
      "   [0.31596464 0.71617166]]\n",
      "\n",
      "  [[0.51552645 0.38498739]\n",
      "   [0.57206171 0.8475306 ]\n",
      "   [0.4435276  0.82738212]\n",
      "   [0.49203629 0.78391345]]\n",
      "\n",
      "  [[0.1166408  0.03722505]\n",
      "   [0.74704272 0.21750797]\n",
      "   [0.28550057 0.47877042]\n",
      "   [0.46204954 0.85038657]]]]\n",
      "E.ndim =  4\n"
     ]
    }
   ],
   "source": [
    "# A four dimesional array\n",
    "E = np.random.rand(2,3,4,2)\n",
    "print(E)\n",
    "print(\"E.ndim = \",E.ndim)"
   ]
  },
  {
   "cell_type": "markdown",
   "metadata": {},
   "source": [
    "RESHAPE"
   ]
  },
  {
   "cell_type": "code",
   "execution_count": 3,
   "metadata": {},
   "outputs": [
    {
     "name": "stdout",
     "output_type": "stream",
     "text": [
      "(4, 25)\n"
     ]
    }
   ],
   "source": [
    "import numpy as np\n",
    "A = np.arange(100).reshape(4,25)\n",
    "print(A.shape)"
   ]
  },
  {
   "cell_type": "code",
   "execution_count": 5,
   "metadata": {},
   "outputs": [
    {
     "data": {
      "text/plain": [
       "(4, 5, 5)"
      ]
     },
     "execution_count": 5,
     "metadata": {},
     "output_type": "execute_result"
    }
   ],
   "source": [
    "# two-dimensional array\n",
    "A = np.arange(100).reshape(4,5,5)\n",
    "A.shape"
   ]
  },
  {
   "cell_type": "markdown",
   "metadata": {},
   "source": [
    "ZEROS"
   ]
  },
  {
   "cell_type": "code",
   "execution_count": 6,
   "metadata": {},
   "outputs": [],
   "source": [
    "np.zeros?"
   ]
  },
  {
   "cell_type": "code",
   "execution_count": 7,
   "metadata": {},
   "outputs": [
    {
     "data": {
      "text/plain": [
       "array([0., 0., 0., 0., 0.])"
      ]
     },
     "execution_count": 7,
     "metadata": {},
     "output_type": "execute_result"
    }
   ],
   "source": [
    "np.zeros(5)"
   ]
  },
  {
   "cell_type": "code",
   "execution_count": 9,
   "metadata": {},
   "outputs": [
    {
     "data": {
      "text/plain": [
       "array([0, 0, 0, 0, 0])"
      ]
     },
     "execution_count": 9,
     "metadata": {},
     "output_type": "execute_result"
    }
   ],
   "source": [
    "np.zeros((5,), dtype=int)"
   ]
  },
  {
   "cell_type": "code",
   "execution_count": 10,
   "metadata": {},
   "outputs": [
    {
     "data": {
      "text/plain": [
       "array([[0.],\n",
       "       [0.]])"
      ]
     },
     "execution_count": 10,
     "metadata": {},
     "output_type": "execute_result"
    }
   ],
   "source": [
    "np.zeros((2,1))"
   ]
  },
  {
   "cell_type": "code",
   "execution_count": 12,
   "metadata": {},
   "outputs": [
    {
     "data": {
      "text/plain": [
       "array([[0., 0.],\n",
       "       [0., 0.]])"
      ]
     },
     "execution_count": 12,
     "metadata": {},
     "output_type": "execute_result"
    }
   ],
   "source": [
    "s = (2,2)\n",
    "np.zeros(s)"
   ]
  },
  {
   "cell_type": "code",
   "execution_count": 13,
   "metadata": {},
   "outputs": [
    {
     "data": {
      "text/plain": [
       "array([(0, 0), (0, 0)], dtype=[('x', '<i4'), ('y', '<i4')])"
      ]
     },
     "execution_count": 13,
     "metadata": {},
     "output_type": "execute_result"
    }
   ],
   "source": [
    "np.zeros((2,), dtype = [('x', 'i4'), ('y', 'i4')])"
   ]
  },
  {
   "cell_type": "markdown",
   "metadata": {},
   "source": [
    "# Numpy Slicing"
   ]
  },
  {
   "cell_type": "code",
   "execution_count": 11,
   "metadata": {},
   "outputs": [
    {
     "name": "stdout",
     "output_type": "stream",
     "text": [
      "[[ 0  1  2  3  4  5  6  7  8  9]\n",
      " [10 11 12 13 14 15 16 17 18 19]\n",
      " [20 21 22 23 24 25 26 27 28 29]\n",
      " [30 31 32 33 34 35 36 37 38 39]\n",
      " [40 41 42 43 44 45 46 47 48 49]\n",
      " [50 51 52 53 54 55 56 57 58 59]\n",
      " [60 61 62 63 64 65 66 67 68 69]\n",
      " [70 71 72 73 74 75 76 77 78 79]\n",
      " [80 81 82 83 84 85 86 87 88 89]\n",
      " [90 91 92 93 94 95 96 97 98 99]]\n"
     ]
    },
    {
     "data": {
      "text/plain": [
       "array([[ 0,  1,  2,  3,  4,  5,  6,  7,  8,  9],\n",
       "       [50, 51, 52, 53, 54, 55, 56, 57, 58, 59]])"
      ]
     },
     "execution_count": 11,
     "metadata": {},
     "output_type": "execute_result"
    }
   ],
   "source": [
    "import numpy as np\n",
    "A = np.arange(0,100).reshape(10,10)\n",
    "print(A)\n",
    "A[::5]"
   ]
  },
  {
   "cell_type": "code",
   "execution_count": 14,
   "metadata": {},
   "outputs": [
    {
     "data": {
      "text/plain": [
       "array([[ 0,  1,  2,  3,  4],\n",
       "       [10, 11, 12, 13, 14],\n",
       "       [20, 21, 22, 23, 24],\n",
       "       [30, 31, 32, 33, 34]])"
      ]
     },
     "execution_count": 14,
     "metadata": {},
     "output_type": "execute_result"
    }
   ],
   "source": [
    "A[:4,:5]"
   ]
  },
  {
   "cell_type": "code",
   "execution_count": 17,
   "metadata": {},
   "outputs": [
    {
     "data": {
      "text/plain": [
       "array([[20, 21, 22, 23, 24, 25, 26, 27, 28, 29],\n",
       "       [50, 51, 52, 53, 54, 55, 56, 57, 58, 59]])"
      ]
     },
     "execution_count": 17,
     "metadata": {},
     "output_type": "execute_result"
    }
   ],
   "source": [
    "A[2:7:3]"
   ]
  },
  {
   "cell_type": "code",
   "execution_count": 16,
   "metadata": {},
   "outputs": [
    {
     "data": {
      "text/plain": [
       "array([[90, 91, 92, 93, 94, 95, 96, 97, 98, 99],\n",
       "       [50, 51, 52, 53, 54, 55, 56, 57, 58, 59],\n",
       "       [10, 11, 12, 13, 14, 15, 16, 17, 18, 19]])"
      ]
     },
     "execution_count": 16,
     "metadata": {},
     "output_type": "execute_result"
    }
   ],
   "source": [
    "A[::-4]"
   ]
  },
  {
   "cell_type": "code",
   "execution_count": 18,
   "metadata": {},
   "outputs": [
    {
     "data": {
      "text/plain": [
       "array([[90, 91, 92, 93, 94, 95, 96, 97, 98, 99],\n",
       "       [80, 81, 82, 83, 84, 85, 86, 87, 88, 89],\n",
       "       [70, 71, 72, 73, 74, 75, 76, 77, 78, 79],\n",
       "       [60, 61, 62, 63, 64, 65, 66, 67, 68, 69],\n",
       "       [50, 51, 52, 53, 54, 55, 56, 57, 58, 59],\n",
       "       [40, 41, 42, 43, 44, 45, 46, 47, 48, 49],\n",
       "       [30, 31, 32, 33, 34, 35, 36, 37, 38, 39],\n",
       "       [20, 21, 22, 23, 24, 25, 26, 27, 28, 29],\n",
       "       [10, 11, 12, 13, 14, 15, 16, 17, 18, 19],\n",
       "       [ 0,  1,  2,  3,  4,  5,  6,  7,  8,  9]])"
      ]
     },
     "execution_count": 18,
     "metadata": {},
     "output_type": "execute_result"
    }
   ],
   "source": [
    "A[::-1]"
   ]
  },
  {
   "cell_type": "code",
   "execution_count": 27,
   "metadata": {},
   "outputs": [
    {
     "data": {
      "text/plain": [
       "array([7, 5], dtype=int64)"
      ]
     },
     "execution_count": 27,
     "metadata": {},
     "output_type": "execute_result"
    }
   ],
   "source": [
    "index = np.argwhere(A==75)[0]\n",
    "index"
   ]
  },
  {
   "cell_type": "code",
   "execution_count": 28,
   "metadata": {},
   "outputs": [
    {
     "data": {
      "text/plain": [
       "7"
      ]
     },
     "execution_count": 28,
     "metadata": {},
     "output_type": "execute_result"
    }
   ],
   "source": [
    "index = np.argwhere(A==75)[0][0]\n",
    "index     # row wise indexing"
   ]
  },
  {
   "cell_type": "code",
   "execution_count": 31,
   "metadata": {},
   "outputs": [
    {
     "data": {
      "text/plain": [
       "5"
      ]
     },
     "execution_count": 31,
     "metadata": {},
     "output_type": "execute_result"
    }
   ],
   "source": [
    "index = np.argwhere(A==75)[0][1]\n",
    "index   # column wise indexing"
   ]
  },
  {
   "cell_type": "code",
   "execution_count": 32,
   "metadata": {},
   "outputs": [
    {
     "data": {
      "text/plain": [
       "array([[   0,    1,    2,    3,    4,    5,    6,    7,    8,    9],\n",
       "       [  10,   11,   12,   13,   14,   15,   16,   17,   18,   19],\n",
       "       [  20,   21,   22,   23,   24,   25,   26,   27,   28,   29],\n",
       "       [  30,   31,   32,   33,   34,   35,   36,   37,   38,   39],\n",
       "       [  40,   41,   42,   43,   44,   45,   46,   47,   48,   49],\n",
       "       [  50,   51,   52,   53,   54,   55,   56,   57,   58,   59],\n",
       "       [  60,   61,   62,   63,   64,   65,   66,   67,   68,   69],\n",
       "       [  70,   71,   72,   73,   74, 1056,   76,   77,   78,   79],\n",
       "       [  80,   81,   82,   83,   84,   85,   86,   87,   88,   89],\n",
       "       [  90,   91,   92,   93,   94,   95,   96,   97,   98,   99]])"
      ]
     },
     "execution_count": 32,
     "metadata": {},
     "output_type": "execute_result"
    }
   ],
   "source": [
    "A[7,5]= 1056\n",
    "A"
   ]
  },
  {
   "cell_type": "code",
   "execution_count": 36,
   "metadata": {},
   "outputs": [
    {
     "data": {
      "text/plain": [
       "array([[3., 8., 5., 8.],\n",
       "       [9., 1., 5., 9.],\n",
       "       [6., 1., 5., 1.],\n",
       "       [1., 8., 3., 3.],\n",
       "       [7., 5., 7., 7.]])"
      ]
     },
     "execution_count": 36,
     "metadata": {},
     "output_type": "execute_result"
    }
   ],
   "source": [
    "B = np.round(10*np.random.rand(5,4))\n",
    "B"
   ]
  },
  {
   "cell_type": "code",
   "execution_count": 37,
   "metadata": {},
   "outputs": [
    {
     "data": {
      "text/plain": [
       "1.0"
      ]
     },
     "execution_count": 37,
     "metadata": {},
     "output_type": "execute_result"
    }
   ],
   "source": [
    "B[2,3]"
   ]
  },
  {
   "cell_type": "code",
   "execution_count": 38,
   "metadata": {},
   "outputs": [
    {
     "data": {
      "text/plain": [
       "array([9., 1., 5., 9.])"
      ]
     },
     "execution_count": 38,
     "metadata": {},
     "output_type": "execute_result"
    }
   ],
   "source": [
    "B[1,:]    # row 2nd all columms"
   ]
  },
  {
   "cell_type": "code",
   "execution_count": 39,
   "metadata": {},
   "outputs": [
    {
     "data": {
      "text/plain": [
       "array([5., 5., 5., 3., 7.])"
      ]
     },
     "execution_count": 39,
     "metadata": {},
     "output_type": "execute_result"
    }
   ],
   "source": [
    "B[:,2]    # all rows 3rd column"
   ]
  },
  {
   "cell_type": "code",
   "execution_count": 40,
   "metadata": {},
   "outputs": [
    {
     "data": {
      "text/plain": [
       "array([[5., 9.],\n",
       "       [5., 1.],\n",
       "       [3., 3.]])"
      ]
     },
     "execution_count": 40,
     "metadata": {},
     "output_type": "execute_result"
    }
   ],
   "source": [
    "B[1:4,2:4]"
   ]
  },
  {
   "cell_type": "code",
   "execution_count": 41,
   "metadata": {},
   "outputs": [
    {
     "data": {
      "text/plain": [
       "array([[3., 8., 5., 8.],\n",
       "       [9., 1., 5., 9.],\n",
       "       [6., 1., 5., 1.],\n",
       "       [1., 8., 3., 3.],\n",
       "       [7., 5., 7., 7.]])"
      ]
     },
     "execution_count": 41,
     "metadata": {},
     "output_type": "execute_result"
    }
   ],
   "source": [
    "B"
   ]
  },
  {
   "cell_type": "code",
   "execution_count": 43,
   "metadata": {},
   "outputs": [
    {
     "data": {
      "text/plain": [
       "array([[3., 9., 6., 1., 7.],\n",
       "       [8., 1., 1., 8., 5.],\n",
       "       [5., 5., 5., 3., 7.],\n",
       "       [8., 9., 1., 3., 7.]])"
      ]
     },
     "execution_count": 43,
     "metadata": {},
     "output_type": "execute_result"
    }
   ],
   "source": [
    "B.T   # here T is for transpose"
   ]
  },
  {
   "cell_type": "markdown",
   "metadata": {},
   "source": [
    "# Numpy linear algebra"
   ]
  },
  {
   "cell_type": "code",
   "execution_count": 44,
   "metadata": {},
   "outputs": [],
   "source": [
    "import numpy.linalg as la\n"
   ]
  },
  {
   "cell_type": "code",
   "execution_count": 45,
   "metadata": {},
   "outputs": [
    {
     "data": {
      "text/plain": [
       "array([[ 1.10011908, -2.40868797,  0.61949362],\n",
       "       [ 0.53216536,  2.08007383, -0.9592895 ],\n",
       "       [-1.57408803,  3.30087736,  0.62104286]])"
      ]
     },
     "execution_count": 45,
     "metadata": {},
     "output_type": "execute_result"
    }
   ],
   "source": [
    "la.inv(np.random.rand(3,3))"
   ]
  },
  {
   "cell_type": "code",
   "execution_count": 51,
   "metadata": {},
   "outputs": [
    {
     "name": "stdout",
     "output_type": "stream",
     "text": [
      "[[0.2829364  0.12517481 0.24634137]\n",
      " [0.28118919 0.82376782 0.51841149]\n",
      " [0.54152909 0.28320564 0.1656496 ]]\n",
      "Det. of x =  -0.06389508212177133\n"
     ]
    }
   ],
   "source": [
    "x = np.random.rand(3,3)\n",
    "a = la.det(x)\n",
    "print(x)\n",
    "print(\"Det. of x = \",a)"
   ]
  },
  {
   "cell_type": "code",
   "execution_count": 53,
   "metadata": {},
   "outputs": [
    {
     "name": "stdout",
     "output_type": "stream",
     "text": [
      "[[0.34804334 0.97615347 0.30197922]\n",
      " [0.4005602  0.97470046 0.1844141 ]\n",
      " [0.07809762 0.18400992 0.90042696]]\n",
      "3\n"
     ]
    }
   ],
   "source": [
    "x = np.random.rand(3,3)\n",
    "print(x)\n",
    "a = np.linalg.matrix_rank(x)\n",
    "print(a)"
   ]
  },
  {
   "cell_type": "code",
   "execution_count": 59,
   "metadata": {},
   "outputs": [
    {
     "name": "stdout",
     "output_type": "stream",
     "text": [
      "[[0.72953985 0.94971291 0.8364466 ]\n",
      " [0.32620833 0.93911238 0.87967768]\n",
      " [0.17012419 0.23637378 0.52734784]]\n",
      "Matrix**4=  [[2.75482608 5.20822988 5.82844648]\n",
      " [2.10914749 3.99031878 4.47887185]\n",
      " [0.82186132 1.54920892 1.73797202]]\n"
     ]
    }
   ],
   "source": [
    "x = np.random.rand(3,3)\n",
    "print(x)\n",
    "a = np.linalg.matrix_power(x,4)\n",
    "print(\"Matrix**4= \",a)"
   ]
  },
  {
   "cell_type": "markdown",
   "metadata": {},
   "source": [
    "# Sorting"
   ]
  },
  {
   "cell_type": "code",
   "execution_count": 61,
   "metadata": {},
   "outputs": [
    {
     "data": {
      "text/plain": [
       "array([[0.0674967 , 0.03718896, 0.27174169],\n",
       "       [0.84925018, 0.42897094, 0.23657356],\n",
       "       [0.21726404, 0.04753686, 0.27372213]])"
      ]
     },
     "execution_count": 61,
     "metadata": {},
     "output_type": "execute_result"
    }
   ],
   "source": [
    "A = np.random.rand(3,3)\n",
    "A"
   ]
  },
  {
   "cell_type": "code",
   "execution_count": 63,
   "metadata": {},
   "outputs": [
    {
     "data": {
      "text/plain": [
       "array([[0.0674967 , 0.03718896, 0.23657356],\n",
       "       [0.21726404, 0.04753686, 0.27174169],\n",
       "       [0.84925018, 0.42897094, 0.27372213]])"
      ]
     },
     "execution_count": 63,
     "metadata": {},
     "output_type": "execute_result"
    }
   ],
   "source": [
    "A.sort(axis=0)\n",
    "A"
   ]
  },
  {
   "cell_type": "code",
   "execution_count": 64,
   "metadata": {},
   "outputs": [
    {
     "data": {
      "text/plain": [
       "array([[0.03718896, 0.0674967 , 0.23657356],\n",
       "       [0.04753686, 0.21726404, 0.27174169],\n",
       "       [0.27372213, 0.42897094, 0.84925018]])"
      ]
     },
     "execution_count": 64,
     "metadata": {},
     "output_type": "execute_result"
    }
   ],
   "source": [
    "A.sort(axis=1)\n",
    "A"
   ]
  },
  {
   "cell_type": "markdown",
   "metadata": {},
   "source": [
    "# Numpy ( More Indexing )"
   ]
  },
  {
   "cell_type": "code",
   "execution_count": 72,
   "metadata": {},
   "outputs": [
    {
     "data": {
      "text/plain": [
       "array([[0.41191327, 0.28247963, 0.20488845, 0.5792494 , 0.16882862],\n",
       "       [0.01590579, 0.29268313, 0.64507773, 0.82417355, 0.01880712],\n",
       "       [0.95025836, 0.04220479, 0.3783618 , 0.30287897, 0.82388583],\n",
       "       [0.7232225 , 0.73950584, 0.08227237, 0.23217701, 0.73899255]])"
      ]
     },
     "execution_count": 72,
     "metadata": {},
     "output_type": "execute_result"
    }
   ],
   "source": [
    "a = np.random.rand(4,5)\n",
    "a"
   ]
  },
  {
   "cell_type": "code",
   "execution_count": 74,
   "metadata": {},
   "outputs": [
    {
     "data": {
      "text/plain": [
       "array([[0.01590579, 0.29268313, 0.64507773, 0.82417355, 0.01880712],\n",
       "       [0.7232225 , 0.73950584, 0.08227237, 0.23217701, 0.73899255]])"
      ]
     },
     "execution_count": 74,
     "metadata": {},
     "output_type": "execute_result"
    }
   ],
   "source": [
    "a[[1,3]]   # index 1, 4 and 6 elements.  # this will give 2nd and 4th row."
   ]
  },
  {
   "cell_type": "code",
   "execution_count": 77,
   "metadata": {},
   "outputs": [
    {
     "data": {
      "text/plain": [
       "array([[0.95025836, 0.04220479, 0.3783618 , 0.30287897, 0.82388583],\n",
       "       [0.7232225 , 0.73950584, 0.08227237, 0.23217701, 0.73899255],\n",
       "       [0.01590579, 0.29268313, 0.64507773, 0.82417355, 0.01880712]])"
      ]
     },
     "execution_count": 77,
     "metadata": {},
     "output_type": "execute_result"
    }
   ],
   "source": [
    "a[[2,3,1]] # this will give the 3rd row, 4th row and the 2nd row."
   ]
  },
  {
   "cell_type": "code",
   "execution_count": 79,
   "metadata": {},
   "outputs": [
    {
     "data": {
      "text/plain": [
       "array([[0.41191327, 0.28247963, 0.20488845, 0.5792494 , 0.16882862],\n",
       "       [0.01590579, 0.29268313, 0.64507773, 0.82417355, 0.01880712]])"
      ]
     },
     "execution_count": 79,
     "metadata": {},
     "output_type": "execute_result"
    }
   ],
   "source": [
    "a[[True,True,False,False]]  # this has printes the 1st and 2nd"
   ]
  },
  {
   "cell_type": "code",
   "execution_count": 81,
   "metadata": {},
   "outputs": [
    {
     "data": {
      "text/plain": [
       "array([[0.41191327, 0.28247963, 0.20488845, 0.5792494 , 0.16882862],\n",
       "       [0.95025836, 0.04220479, 0.3783618 , 0.30287897, 0.82388583]])"
      ]
     },
     "execution_count": 81,
     "metadata": {},
     "output_type": "execute_result"
    }
   ],
   "source": [
    "a[[True,False,True,False]]  # this will print the 1st and the 3rd row"
   ]
  },
  {
   "cell_type": "code",
   "execution_count": 89,
   "metadata": {},
   "outputs": [
    {
     "data": {
      "text/plain": [
       "array([ 0,  1,  2,  3,  4,  5,  6,  7,  8,  9, 10, 11, 12, 13, 14, 15, 16,\n",
       "       17, 18, 19, 20, 21, 22, 23, 24, 25, 26, 27, 28, 29, 30, 31, 32, 33,\n",
       "       34, 35, 36, 37, 38, 39, 40, 41, 42, 43, 44, 45, 46, 47, 48, 49, 50,\n",
       "       51, 52, 53, 54, 55, 56, 57, 58, 59, 60, 61, 62, 63, 64, 65, 66, 67,\n",
       "       68, 69, 70, 71, 72, 73, 74, 75, 76, 77, 78, 79, 80, 81, 82, 83, 84,\n",
       "       85, 86, 87, 88, 89, 90, 91, 92, 93, 94, 95, 96, 97, 98, 99])"
      ]
     },
     "execution_count": 89,
     "metadata": {},
     "output_type": "execute_result"
    }
   ],
   "source": [
    "A = np.arange(0,100)\n",
    "A"
   ]
  },
  {
   "cell_type": "code",
   "execution_count": 90,
   "metadata": {},
   "outputs": [
    {
     "data": {
      "text/plain": [
       "array([ 0,  1,  2,  3,  4,  5,  6,  7,  8,  9, 10, 11, 12, 13, 14, 15, 16,\n",
       "       17, 18, 19, 20, 21, 22, 23, 24, 25, 26, 27, 28, 29, 30, 31, 32, 33,\n",
       "       34, 35, 36, 37, 38, 39])"
      ]
     },
     "execution_count": 90,
     "metadata": {},
     "output_type": "execute_result"
    }
   ],
   "source": [
    "A[A<40]"
   ]
  },
  {
   "cell_type": "code",
   "execution_count": 104,
   "metadata": {},
   "outputs": [],
   "source": [
    "                         # FOR ARRAYS                 # FOR SINGLE OBJECTS \n",
    "# any one is true            |  (straight line)               or\n",
    "# both are True             &                                and\n",
    "# not True                  ~                                not"
   ]
  },
  {
   "cell_type": "code",
   "execution_count": 103,
   "metadata": {},
   "outputs": [
    {
     "data": {
      "text/plain": [
       "array([41, 42, 43, 44, 45, 46, 47, 48, 49, 50, 51, 52, 53, 54, 55, 56, 57,\n",
       "       58, 59, 60, 61, 62, 63, 64, 65, 66, 67, 68, 69, 70, 71, 72, 73, 74,\n",
       "       75, 76, 77, 78, 79])"
      ]
     },
     "execution_count": 103,
     "metadata": {},
     "output_type": "execute_result"
    }
   ],
   "source": [
    "A[(A>40) & (A<80)]  # & both for arrays ,  and is used for single objects {  A[(A>40) and (A<80)]  }"
   ]
  },
  {
   "cell_type": "markdown",
   "metadata": {},
   "source": [
    "# NUMPY BROADCASTING"
   ]
  },
  {
   "cell_type": "markdown",
   "metadata": {},
   "source": [
    "np.hstack  "
   ]
  },
  {
   "cell_type": "code",
   "execution_count": 2,
   "metadata": {},
   "outputs": [
    {
     "data": {
      "text/plain": [
       "array([[10.,  3.,  5.],\n",
       "       [ 0.,  9.,  9.]])"
      ]
     },
     "execution_count": 2,
     "metadata": {},
     "output_type": "execute_result"
    }
   ],
   "source": [
    "import numpy as np\n",
    "A = np.round(10*np.random.rand(2,3))\n",
    "A"
   ]
  },
  {
   "cell_type": "code",
   "execution_count": 4,
   "metadata": {},
   "outputs": [
    {
     "data": {
      "text/plain": [
       "array([[13.,  6.,  8.],\n",
       "       [ 3., 12., 12.]])"
      ]
     },
     "execution_count": 4,
     "metadata": {},
     "output_type": "execute_result"
    }
   ],
   "source": [
    "A+3   # this happens through broadcasting  A+3 as 3 is added to each and every element to A"
   ]
  },
  {
   "cell_type": "code",
   "execution_count": 9,
   "metadata": {},
   "outputs": [
    {
     "name": "stdout",
     "output_type": "stream",
     "text": [
      "A =  [[10.  3.  5.]\n",
      " [ 0.  9.  9.]]\n",
      "B =  [[13.  6.  8.]\n",
      " [ 4. 13. 13.]]\n"
     ]
    }
   ],
   "source": [
    "B = A + (np.arange(3,5).reshape(2,1))   #  (3,5) that will give 3 and 4.\n",
    "print(\"A = \",A)\n",
    "print(\"B = \",B)   # three is added in row 1 and 4 is added to row 2."
   ]
  },
  {
   "cell_type": "code",
   "execution_count": 11,
   "metadata": {},
   "outputs": [
    {
     "data": {
      "text/plain": [
       "array([[ 9.,  3.],\n",
       "       [10.,  4.]])"
      ]
     },
     "execution_count": 11,
     "metadata": {},
     "output_type": "execute_result"
    }
   ],
   "source": [
    "C = np.round(10*np.random.rand(2,2))\n",
    "C"
   ]
  },
  {
   "cell_type": "code",
   "execution_count": 13,
   "metadata": {},
   "outputs": [
    {
     "data": {
      "text/plain": [
       "array([[13.,  6.,  8.,  9.,  3.],\n",
       "       [ 4., 13., 13., 10.,  4.]])"
      ]
     },
     "execution_count": 13,
     "metadata": {},
     "output_type": "execute_result"
    }
   ],
   "source": [
    "D = np.hstack((B,C))\n",
    "D"
   ]
  },
  {
   "cell_type": "code",
   "execution_count": 14,
   "metadata": {},
   "outputs": [
    {
     "data": {
      "text/plain": [
       "(2, 5)"
      ]
     },
     "execution_count": 14,
     "metadata": {},
     "output_type": "execute_result"
    }
   ],
   "source": [
    "D.shape"
   ]
  },
  {
   "cell_type": "code",
   "execution_count": null,
   "metadata": {},
   "outputs": [],
   "source": []
  },
  {
   "cell_type": "code",
   "execution_count": 3,
   "metadata": {},
   "outputs": [
    {
     "data": {
      "text/plain": [
       "array([2, 0, 1, 6, 3, 8, 7, 9, 4, 5])"
      ]
     },
     "execution_count": 3,
     "metadata": {},
     "output_type": "execute_result"
    }
   ],
   "source": [
    "# sorting\n",
    "\n",
    "import numpy as np\n",
    "A = np.random.permutation(np.arange(10))\n",
    "A"
   ]
  },
  {
   "cell_type": "code",
   "execution_count": 6,
   "metadata": {},
   "outputs": [
    {
     "data": {
      "text/plain": [
       "array([0, 1, 2, 3, 4, 5, 6, 7, 8, 9])"
      ]
     },
     "execution_count": 6,
     "metadata": {},
     "output_type": "execute_result"
    }
   ],
   "source": [
    "np.sort(A)"
   ]
  },
  {
   "cell_type": "code",
   "execution_count": 8,
   "metadata": {},
   "outputs": [
    {
     "data": {
      "text/plain": [
       "array([0, 1, 2, 3, 4, 5, 6, 7, 8, 9])"
      ]
     },
     "execution_count": 8,
     "metadata": {},
     "output_type": "execute_result"
    }
   ],
   "source": [
    "A.sort()\n",
    "A"
   ]
  },
  {
   "cell_type": "code",
   "execution_count": 10,
   "metadata": {},
   "outputs": [
    {
     "data": {
      "text/plain": [
       "array([9, 8, 7, 6, 5, 4, 3, 2, 1, 0])"
      ]
     },
     "execution_count": 10,
     "metadata": {},
     "output_type": "execute_result"
    }
   ],
   "source": [
    "A = A[::-1]           # sorting in the reverse order\n",
    "A              "
   ]
  },
  {
   "cell_type": "code",
   "execution_count": 14,
   "metadata": {},
   "outputs": [],
   "source": [
    "A =np.array([\"abc\",\"how are you\",\"u765\",\"13er\",\"ABC\"])"
   ]
  },
  {
   "cell_type": "code",
   "execution_count": 15,
   "metadata": {},
   "outputs": [
    {
     "data": {
      "text/plain": [
       "array(['13er', 'ABC', 'abc', 'how are you', 'u765'], dtype='<U11')"
      ]
     },
     "execution_count": 15,
     "metadata": {},
     "output_type": "execute_result"
    }
   ],
   "source": [
    "A.sort()\n",
    "A"
   ]
  },
  {
   "cell_type": "markdown",
   "metadata": {},
   "source": [
    "#  Numpy ( seed:  ufuncs)"
   ]
  },
  {
   "cell_type": "code",
   "execution_count": 5,
   "metadata": {},
   "outputs": [
    {
     "name": "stdout",
     "output_type": "stream",
     "text": [
      "3.26 ms ± 243 µs per loop (mean ± std. dev. of 7 runs, 100 loops each)\n",
      "16.8 µs ± 560 ns per loop (mean ± std. dev. of 7 runs, 100000 loops each)\n"
     ]
    }
   ],
   "source": [
    "import numpy as np\n",
    "b = np.random.rand(10000)\n",
    "%timeit sum(b)\n",
    "%timeit np.sum(b)"
   ]
  },
  {
   "cell_type": "code",
   "execution_count": 7,
   "metadata": {},
   "outputs": [
    {
     "name": "stdout",
     "output_type": "stream",
     "text": [
      "Wall time: 998 µs\n"
     ]
    },
    {
     "data": {
      "text/plain": [
       "4942.080297302877"
      ]
     },
     "execution_count": 7,
     "metadata": {},
     "output_type": "execute_result"
    }
   ],
   "source": [
    "def mysum(G):\n",
    "    s = 0\n",
    "    for x in G:\n",
    "        s+=x\n",
    "    return s\n",
    "\n",
    "%time mysum(b)"
   ]
  },
  {
   "cell_type": "code",
   "execution_count": 10,
   "metadata": {},
   "outputs": [],
   "source": [
    "#  explore more about it"
   ]
  },
  {
   "cell_type": "markdown",
   "metadata": {},
   "source": [
    "# PANDAS"
   ]
  },
  {
   "cell_type": "code",
   "execution_count": 2,
   "metadata": {},
   "outputs": [],
   "source": [
    "import pandas as pd"
   ]
  },
  {
   "cell_type": "markdown",
   "metadata": {},
   "source": [
    "# PANDAS (SERIES)"
   ]
  },
  {
   "cell_type": "code",
   "execution_count": 22,
   "metadata": {
    "scrolled": true
   },
   "outputs": [
    {
     "data": {
      "text/plain": [
       "a    0.25\n",
       "b    0.50\n",
       "c    0.75\n",
       "d    1.00\n",
       "dtype: float64"
      ]
     },
     "execution_count": 22,
     "metadata": {},
     "output_type": "execute_result"
    }
   ],
   "source": [
    "data = pd.Series([0.25,0.5,0.75,1.0],index=['a','b','c','d'])\n",
    "data"
   ]
  },
  {
   "cell_type": "code",
   "execution_count": 23,
   "metadata": {},
   "outputs": [
    {
     "data": {
      "text/plain": [
       "array([0.25, 0.5 , 0.75, 1.  ])"
      ]
     },
     "execution_count": 23,
     "metadata": {},
     "output_type": "execute_result"
    }
   ],
   "source": [
    "data.values"
   ]
  },
  {
   "cell_type": "code",
   "execution_count": 24,
   "metadata": {},
   "outputs": [
    {
     "data": {
      "text/plain": [
       "a    [2, 3, 4, 2]\n",
       "b    [7, 3, 5, 7]\n",
       "dtype: object"
      ]
     },
     "execution_count": 24,
     "metadata": {},
     "output_type": "execute_result"
    }
   ],
   "source": [
    "data1 = pd.Series(([2,3,4,2],[7,3,5,7]), index=['a','b'])\n",
    "data1"
   ]
  },
  {
   "cell_type": "code",
   "execution_count": 25,
   "metadata": {},
   "outputs": [
    {
     "data": {
      "text/plain": [
       "array([list([2, 3, 4, 2]), list([7, 3, 5, 7])], dtype=object)"
      ]
     },
     "execution_count": 25,
     "metadata": {},
     "output_type": "execute_result"
    }
   ],
   "source": [
    "data1.values"
   ]
  },
  {
   "cell_type": "code",
   "execution_count": 26,
   "metadata": {},
   "outputs": [
    {
     "data": {
      "text/plain": [
       "pandas.core.series.Series"
      ]
     },
     "execution_count": 26,
     "metadata": {},
     "output_type": "execute_result"
    }
   ],
   "source": [
    "type(data1)"
   ]
  },
  {
   "cell_type": "code",
   "execution_count": 27,
   "metadata": {},
   "outputs": [
    {
     "data": {
      "text/plain": [
       "numpy.ndarray"
      ]
     },
     "execution_count": 27,
     "metadata": {},
     "output_type": "execute_result"
    }
   ],
   "source": [
    "type(data1.values)"
   ]
  },
  {
   "cell_type": "code",
   "execution_count": 28,
   "metadata": {},
   "outputs": [
    {
     "data": {
      "text/plain": [
       "Index(['a', 'b'], dtype='object')"
      ]
     },
     "execution_count": 28,
     "metadata": {},
     "output_type": "execute_result"
    }
   ],
   "source": [
    "data1.index"
   ]
  },
  {
   "cell_type": "code",
   "execution_count": 29,
   "metadata": {},
   "outputs": [
    {
     "data": {
      "text/plain": [
       "[2, 3, 4, 2]"
      ]
     },
     "execution_count": 29,
     "metadata": {},
     "output_type": "execute_result"
    }
   ],
   "source": [
    "data1['a']"
   ]
  },
  {
   "cell_type": "code",
   "execution_count": 3,
   "metadata": {},
   "outputs": [
    {
     "data": {
      "text/plain": [
       "a     25\n",
       "b     50\n",
       "c     75\n",
       "d    100\n",
       "dtype: int64"
      ]
     },
     "execution_count": 3,
     "metadata": {},
     "output_type": "execute_result"
    }
   ],
   "source": [
    "data2 = pd.Series([25,50,75,100],index=['a','b','c','d'])\n",
    "data2"
   ]
  },
  {
   "cell_type": "code",
   "execution_count": 4,
   "metadata": {},
   "outputs": [
    {
     "data": {
      "text/plain": [
       "a    25\n",
       "b    50\n",
       "c    75\n",
       "dtype: int64"
      ]
     },
     "execution_count": 4,
     "metadata": {},
     "output_type": "execute_result"
    }
   ],
   "source": [
    "data2['a':'c']"
   ]
  },
  {
   "cell_type": "code",
   "execution_count": 6,
   "metadata": {},
   "outputs": [
    {
     "data": {
      "text/plain": [
       "a    25\n",
       "c    75\n",
       "dtype: int64"
      ]
     },
     "execution_count": 6,
     "metadata": {},
     "output_type": "execute_result"
    }
   ],
   "source": [
    "data2[::2]"
   ]
  },
  {
   "cell_type": "code",
   "execution_count": 9,
   "metadata": {},
   "outputs": [],
   "source": [
    "grades_dict = {'A':4,'B':3.5,'C':3,'D':2.5}\n",
    "grades = pd.Series(grades_dict)\n"
   ]
  },
  {
   "cell_type": "code",
   "execution_count": 10,
   "metadata": {},
   "outputs": [
    {
     "data": {
      "text/plain": [
       "array([4. , 3.5, 3. , 2.5])"
      ]
     },
     "execution_count": 10,
     "metadata": {},
     "output_type": "execute_result"
    }
   ],
   "source": [
    "grades.values"
   ]
  },
  {
   "cell_type": "code",
   "execution_count": 11,
   "metadata": {},
   "outputs": [
    {
     "data": {
      "text/plain": [
       "Index(['A', 'B', 'C', 'D'], dtype='object')"
      ]
     },
     "execution_count": 11,
     "metadata": {},
     "output_type": "execute_result"
    }
   ],
   "source": [
    "grades.index"
   ]
  },
  {
   "cell_type": "code",
   "execution_count": 12,
   "metadata": {},
   "outputs": [
    {
     "data": {
      "text/plain": [
       "A    85\n",
       "B    75\n",
       "C    65\n",
       "D    55\n",
       "dtype: int64"
      ]
     },
     "execution_count": 12,
     "metadata": {},
     "output_type": "execute_result"
    }
   ],
   "source": [
    "marks_dict = {'A':85,'B':75,'C':65,'D':55}\n",
    "marks = pd.Series(marks_dict)\n",
    "marks"
   ]
  },
  {
   "cell_type": "code",
   "execution_count": 13,
   "metadata": {},
   "outputs": [
    {
     "data": {
      "text/plain": [
       "85"
      ]
     },
     "execution_count": 13,
     "metadata": {},
     "output_type": "execute_result"
    }
   ],
   "source": [
    "marks['A']"
   ]
  },
  {
   "cell_type": "code",
   "execution_count": 14,
   "metadata": {},
   "outputs": [
    {
     "data": {
      "text/plain": [
       "A    85\n",
       "B    75\n",
       "dtype: int64"
      ]
     },
     "execution_count": 14,
     "metadata": {},
     "output_type": "execute_result"
    }
   ],
   "source": [
    "marks[0:2]"
   ]
  },
  {
   "cell_type": "code",
   "execution_count": 15,
   "metadata": {},
   "outputs": [
    {
     "data": {
      "text/plain": [
       "Index(['A', 'B', 'C', 'D'], dtype='object')"
      ]
     },
     "execution_count": 15,
     "metadata": {},
     "output_type": "execute_result"
    }
   ],
   "source": [
    "marks.index"
   ]
  },
  {
   "cell_type": "code",
   "execution_count": 16,
   "metadata": {},
   "outputs": [
    {
     "data": {
      "text/plain": [
       "array([85, 75, 65, 55], dtype=int64)"
      ]
     },
     "execution_count": 16,
     "metadata": {},
     "output_type": "execute_result"
    }
   ],
   "source": [
    "marks.values"
   ]
  },
  {
   "cell_type": "code",
   "execution_count": 18,
   "metadata": {},
   "outputs": [
    {
     "data": {
      "text/plain": [
       "C    65\n",
       "D    55\n",
       "dtype: int64"
      ]
     },
     "execution_count": 18,
     "metadata": {},
     "output_type": "execute_result"
    }
   ],
   "source": [
    "marks[2:]"
   ]
  },
  {
   "cell_type": "code",
   "execution_count": 19,
   "metadata": {},
   "outputs": [],
   "source": [
    "data = pd.Series([0.25,0.5,0.75,1.0],index=['a','b','c','d'])"
   ]
  },
  {
   "cell_type": "markdown",
   "metadata": {},
   "source": [
    "# PANDAS ( DATAFRAME )"
   ]
  },
  {
   "cell_type": "code",
   "execution_count": 20,
   "metadata": {},
   "outputs": [],
   "source": [
    "import pandas as pd"
   ]
  },
  {
   "cell_type": "code",
   "execution_count": 31,
   "metadata": {},
   "outputs": [
    {
     "data": {
      "text/plain": [
       "A    85\n",
       "B    75\n",
       "C    65\n",
       "D    55\n",
       "dtype: int64"
      ]
     },
     "execution_count": 31,
     "metadata": {},
     "output_type": "execute_result"
    }
   ],
   "source": [
    "marks"
   ]
  },
  {
   "cell_type": "code",
   "execution_count": 34,
   "metadata": {},
   "outputs": [
    {
     "data": {
      "text/plain": [
       "A    4.0\n",
       "B    3.5\n",
       "C    3.0\n",
       "D    2.5\n",
       "dtype: float64"
      ]
     },
     "execution_count": 34,
     "metadata": {},
     "output_type": "execute_result"
    }
   ],
   "source": [
    "grades"
   ]
  },
  {
   "cell_type": "code",
   "execution_count": 46,
   "metadata": {},
   "outputs": [
    {
     "data": {
      "text/html": [
       "<div>\n",
       "<style scoped>\n",
       "    .dataframe tbody tr th:only-of-type {\n",
       "        vertical-align: middle;\n",
       "    }\n",
       "\n",
       "    .dataframe tbody tr th {\n",
       "        vertical-align: top;\n",
       "    }\n",
       "\n",
       "    .dataframe thead th {\n",
       "        text-align: right;\n",
       "    }\n",
       "</style>\n",
       "<table border=\"1\" class=\"dataframe\">\n",
       "  <thead>\n",
       "    <tr style=\"text-align: right;\">\n",
       "      <th></th>\n",
       "      <th>Marks</th>\n",
       "      <th>Grades</th>\n",
       "    </tr>\n",
       "  </thead>\n",
       "  <tbody>\n",
       "    <tr>\n",
       "      <th>A</th>\n",
       "      <td>85</td>\n",
       "      <td>4.0</td>\n",
       "    </tr>\n",
       "    <tr>\n",
       "      <th>B</th>\n",
       "      <td>75</td>\n",
       "      <td>3.5</td>\n",
       "    </tr>\n",
       "    <tr>\n",
       "      <th>C</th>\n",
       "      <td>65</td>\n",
       "      <td>3.0</td>\n",
       "    </tr>\n",
       "    <tr>\n",
       "      <th>D</th>\n",
       "      <td>55</td>\n",
       "      <td>2.5</td>\n",
       "    </tr>\n",
       "  </tbody>\n",
       "</table>\n",
       "</div>"
      ],
      "text/plain": [
       "   Marks  Grades\n",
       "A     85     4.0\n",
       "B     75     3.5\n",
       "C     65     3.0\n",
       "D     55     2.5"
      ]
     },
     "execution_count": 46,
     "metadata": {},
     "output_type": "execute_result"
    }
   ],
   "source": [
    "D = pd.DataFrame({'Marks':marks,'Grades':grades})\n",
    "D"
   ]
  },
  {
   "cell_type": "code",
   "execution_count": 48,
   "metadata": {},
   "outputs": [
    {
     "data": {
      "text/html": [
       "<div>\n",
       "<style scoped>\n",
       "    .dataframe tbody tr th:only-of-type {\n",
       "        vertical-align: middle;\n",
       "    }\n",
       "\n",
       "    .dataframe tbody tr th {\n",
       "        vertical-align: top;\n",
       "    }\n",
       "\n",
       "    .dataframe thead th {\n",
       "        text-align: right;\n",
       "    }\n",
       "</style>\n",
       "<table border=\"1\" class=\"dataframe\">\n",
       "  <thead>\n",
       "    <tr style=\"text-align: right;\">\n",
       "      <th></th>\n",
       "      <th>A</th>\n",
       "      <th>B</th>\n",
       "      <th>C</th>\n",
       "      <th>D</th>\n",
       "    </tr>\n",
       "  </thead>\n",
       "  <tbody>\n",
       "    <tr>\n",
       "      <th>Marks</th>\n",
       "      <td>85.0</td>\n",
       "      <td>75.0</td>\n",
       "      <td>65.0</td>\n",
       "      <td>55.0</td>\n",
       "    </tr>\n",
       "    <tr>\n",
       "      <th>Grades</th>\n",
       "      <td>4.0</td>\n",
       "      <td>3.5</td>\n",
       "      <td>3.0</td>\n",
       "      <td>2.5</td>\n",
       "    </tr>\n",
       "  </tbody>\n",
       "</table>\n",
       "</div>"
      ],
      "text/plain": [
       "           A     B     C     D\n",
       "Marks   85.0  75.0  65.0  55.0\n",
       "Grades   4.0   3.5   3.0   2.5"
      ]
     },
     "execution_count": 48,
     "metadata": {},
     "output_type": "execute_result"
    }
   ],
   "source": [
    "D.T   # here T is the transpose"
   ]
  },
  {
   "cell_type": "code",
   "execution_count": 49,
   "metadata": {},
   "outputs": [
    {
     "data": {
      "text/plain": [
       "array([[85. ,  4. ],\n",
       "       [75. ,  3.5],\n",
       "       [65. ,  3. ],\n",
       "       [55. ,  2.5]])"
      ]
     },
     "execution_count": 49,
     "metadata": {},
     "output_type": "execute_result"
    }
   ],
   "source": [
    "D.values"
   ]
  },
  {
   "cell_type": "code",
   "execution_count": 51,
   "metadata": {},
   "outputs": [
    {
     "data": {
      "text/plain": [
       "65.0"
      ]
     },
     "execution_count": 51,
     "metadata": {},
     "output_type": "execute_result"
    }
   ],
   "source": [
    "D.values[2,0]   # third row and first column"
   ]
  },
  {
   "cell_type": "code",
   "execution_count": 52,
   "metadata": {},
   "outputs": [
    {
     "data": {
      "text/plain": [
       "Index(['Marks', 'Grades'], dtype='object')"
      ]
     },
     "execution_count": 52,
     "metadata": {},
     "output_type": "execute_result"
    }
   ],
   "source": [
    "D.columns"
   ]
  },
  {
   "cell_type": "code",
   "execution_count": 53,
   "metadata": {},
   "outputs": [
    {
     "data": {
      "text/html": [
       "<div>\n",
       "<style scoped>\n",
       "    .dataframe tbody tr th:only-of-type {\n",
       "        vertical-align: middle;\n",
       "    }\n",
       "\n",
       "    .dataframe tbody tr th {\n",
       "        vertical-align: top;\n",
       "    }\n",
       "\n",
       "    .dataframe thead th {\n",
       "        text-align: right;\n",
       "    }\n",
       "</style>\n",
       "<table border=\"1\" class=\"dataframe\">\n",
       "  <thead>\n",
       "    <tr style=\"text-align: right;\">\n",
       "      <th></th>\n",
       "      <th>Marks</th>\n",
       "      <th>Grades</th>\n",
       "    </tr>\n",
       "  </thead>\n",
       "  <tbody>\n",
       "    <tr>\n",
       "      <th>A</th>\n",
       "      <td>85</td>\n",
       "      <td>4.0</td>\n",
       "    </tr>\n",
       "    <tr>\n",
       "      <th>B</th>\n",
       "      <td>75</td>\n",
       "      <td>3.5</td>\n",
       "    </tr>\n",
       "    <tr>\n",
       "      <th>C</th>\n",
       "      <td>65</td>\n",
       "      <td>3.0</td>\n",
       "    </tr>\n",
       "    <tr>\n",
       "      <th>D</th>\n",
       "      <td>55</td>\n",
       "      <td>2.5</td>\n",
       "    </tr>\n",
       "  </tbody>\n",
       "</table>\n",
       "</div>"
      ],
      "text/plain": [
       "   Marks  Grades\n",
       "A     85     4.0\n",
       "B     75     3.5\n",
       "C     65     3.0\n",
       "D     55     2.5"
      ]
     },
     "execution_count": 53,
     "metadata": {},
     "output_type": "execute_result"
    }
   ],
   "source": [
    "D"
   ]
  },
  {
   "cell_type": "code",
   "execution_count": 54,
   "metadata": {},
   "outputs": [],
   "source": [
    "# to add another column"
   ]
  },
  {
   "cell_type": "code",
   "execution_count": 55,
   "metadata": {},
   "outputs": [
    {
     "data": {
      "text/html": [
       "<div>\n",
       "<style scoped>\n",
       "    .dataframe tbody tr th:only-of-type {\n",
       "        vertical-align: middle;\n",
       "    }\n",
       "\n",
       "    .dataframe tbody tr th {\n",
       "        vertical-align: top;\n",
       "    }\n",
       "\n",
       "    .dataframe thead th {\n",
       "        text-align: right;\n",
       "    }\n",
       "</style>\n",
       "<table border=\"1\" class=\"dataframe\">\n",
       "  <thead>\n",
       "    <tr style=\"text-align: right;\">\n",
       "      <th></th>\n",
       "      <th>Marks</th>\n",
       "      <th>Grades</th>\n",
       "      <th>ScaledMarks</th>\n",
       "    </tr>\n",
       "  </thead>\n",
       "  <tbody>\n",
       "    <tr>\n",
       "      <th>A</th>\n",
       "      <td>85</td>\n",
       "      <td>4.0</td>\n",
       "      <td>94.444444</td>\n",
       "    </tr>\n",
       "    <tr>\n",
       "      <th>B</th>\n",
       "      <td>75</td>\n",
       "      <td>3.5</td>\n",
       "      <td>83.333333</td>\n",
       "    </tr>\n",
       "    <tr>\n",
       "      <th>C</th>\n",
       "      <td>65</td>\n",
       "      <td>3.0</td>\n",
       "      <td>72.222222</td>\n",
       "    </tr>\n",
       "    <tr>\n",
       "      <th>D</th>\n",
       "      <td>55</td>\n",
       "      <td>2.5</td>\n",
       "      <td>61.111111</td>\n",
       "    </tr>\n",
       "  </tbody>\n",
       "</table>\n",
       "</div>"
      ],
      "text/plain": [
       "   Marks  Grades  ScaledMarks\n",
       "A     85     4.0    94.444444\n",
       "B     75     3.5    83.333333\n",
       "C     65     3.0    72.222222\n",
       "D     55     2.5    61.111111"
      ]
     },
     "execution_count": 55,
     "metadata": {},
     "output_type": "execute_result"
    }
   ],
   "source": [
    "D['ScaledMarks'] = 100*(D['Marks']/90)\n",
    "D"
   ]
  },
  {
   "cell_type": "code",
   "execution_count": 56,
   "metadata": {},
   "outputs": [
    {
     "data": {
      "text/html": [
       "<div>\n",
       "<style scoped>\n",
       "    .dataframe tbody tr th:only-of-type {\n",
       "        vertical-align: middle;\n",
       "    }\n",
       "\n",
       "    .dataframe tbody tr th {\n",
       "        vertical-align: top;\n",
       "    }\n",
       "\n",
       "    .dataframe thead th {\n",
       "        text-align: right;\n",
       "    }\n",
       "</style>\n",
       "<table border=\"1\" class=\"dataframe\">\n",
       "  <thead>\n",
       "    <tr style=\"text-align: right;\">\n",
       "      <th></th>\n",
       "      <th>Marks</th>\n",
       "      <th>Grades</th>\n",
       "    </tr>\n",
       "  </thead>\n",
       "  <tbody>\n",
       "    <tr>\n",
       "      <th>A</th>\n",
       "      <td>85</td>\n",
       "      <td>4.0</td>\n",
       "    </tr>\n",
       "    <tr>\n",
       "      <th>B</th>\n",
       "      <td>75</td>\n",
       "      <td>3.5</td>\n",
       "    </tr>\n",
       "    <tr>\n",
       "      <th>C</th>\n",
       "      <td>65</td>\n",
       "      <td>3.0</td>\n",
       "    </tr>\n",
       "    <tr>\n",
       "      <th>D</th>\n",
       "      <td>55</td>\n",
       "      <td>2.5</td>\n",
       "    </tr>\n",
       "  </tbody>\n",
       "</table>\n",
       "</div>"
      ],
      "text/plain": [
       "   Marks  Grades\n",
       "A     85     4.0\n",
       "B     75     3.5\n",
       "C     65     3.0\n",
       "D     55     2.5"
      ]
     },
     "execution_count": 56,
     "metadata": {},
     "output_type": "execute_result"
    }
   ],
   "source": [
    "del D['ScaledMarks']\n",
    "D"
   ]
  },
  {
   "cell_type": "code",
   "execution_count": 59,
   "metadata": {},
   "outputs": [
    {
     "data": {
      "text/html": [
       "<div>\n",
       "<style scoped>\n",
       "    .dataframe tbody tr th:only-of-type {\n",
       "        vertical-align: middle;\n",
       "    }\n",
       "\n",
       "    .dataframe tbody tr th {\n",
       "        vertical-align: top;\n",
       "    }\n",
       "\n",
       "    .dataframe thead th {\n",
       "        text-align: right;\n",
       "    }\n",
       "</style>\n",
       "<table border=\"1\" class=\"dataframe\">\n",
       "  <thead>\n",
       "    <tr style=\"text-align: right;\">\n",
       "      <th></th>\n",
       "      <th>Marks</th>\n",
       "      <th>Grades</th>\n",
       "    </tr>\n",
       "  </thead>\n",
       "  <tbody>\n",
       "    <tr>\n",
       "      <th>A</th>\n",
       "      <td>85</td>\n",
       "      <td>4.0</td>\n",
       "    </tr>\n",
       "    <tr>\n",
       "      <th>B</th>\n",
       "      <td>75</td>\n",
       "      <td>3.5</td>\n",
       "    </tr>\n",
       "  </tbody>\n",
       "</table>\n",
       "</div>"
      ],
      "text/plain": [
       "   Marks  Grades\n",
       "A     85     4.0\n",
       "B     75     3.5"
      ]
     },
     "execution_count": 59,
     "metadata": {},
     "output_type": "execute_result"
    }
   ],
   "source": [
    "G = D[D['Marks']>70]\n",
    "G"
   ]
  },
  {
   "cell_type": "markdown",
   "metadata": {},
   "source": [
    "# MISSING DATA  ( PANDAS ( NAN ) )"
   ]
  },
  {
   "cell_type": "code",
   "execution_count": 61,
   "metadata": {},
   "outputs": [
    {
     "data": {
      "text/html": [
       "<div>\n",
       "<style scoped>\n",
       "    .dataframe tbody tr th:only-of-type {\n",
       "        vertical-align: middle;\n",
       "    }\n",
       "\n",
       "    .dataframe tbody tr th {\n",
       "        vertical-align: top;\n",
       "    }\n",
       "\n",
       "    .dataframe thead th {\n",
       "        text-align: right;\n",
       "    }\n",
       "</style>\n",
       "<table border=\"1\" class=\"dataframe\">\n",
       "  <thead>\n",
       "    <tr style=\"text-align: right;\">\n",
       "      <th></th>\n",
       "      <th>a</th>\n",
       "      <th>b</th>\n",
       "      <th>c</th>\n",
       "    </tr>\n",
       "  </thead>\n",
       "  <tbody>\n",
       "    <tr>\n",
       "      <th>0</th>\n",
       "      <td>1.0</td>\n",
       "      <td>2</td>\n",
       "      <td>NaN</td>\n",
       "    </tr>\n",
       "    <tr>\n",
       "      <th>1</th>\n",
       "      <td>NaN</td>\n",
       "      <td>3</td>\n",
       "      <td>4.0</td>\n",
       "    </tr>\n",
       "  </tbody>\n",
       "</table>\n",
       "</div>"
      ],
      "text/plain": [
       "     a  b    c\n",
       "0  1.0  2  NaN\n",
       "1  NaN  3  4.0"
      ]
     },
     "execution_count": 61,
     "metadata": {},
     "output_type": "execute_result"
    }
   ],
   "source": [
    "import pandas as np\n",
    "data = pd.DataFrame([{'a':1,'b':2},{'b':3,'c':4}])\n",
    "data\n"
   ]
  },
  {
   "cell_type": "code",
   "execution_count": 62,
   "metadata": {},
   "outputs": [
    {
     "data": {
      "text/html": [
       "<div>\n",
       "<style scoped>\n",
       "    .dataframe tbody tr th:only-of-type {\n",
       "        vertical-align: middle;\n",
       "    }\n",
       "\n",
       "    .dataframe tbody tr th {\n",
       "        vertical-align: top;\n",
       "    }\n",
       "\n",
       "    .dataframe thead th {\n",
       "        text-align: right;\n",
       "    }\n",
       "</style>\n",
       "<table border=\"1\" class=\"dataframe\">\n",
       "  <thead>\n",
       "    <tr style=\"text-align: right;\">\n",
       "      <th></th>\n",
       "      <th>a</th>\n",
       "      <th>b</th>\n",
       "      <th>c</th>\n",
       "    </tr>\n",
       "  </thead>\n",
       "  <tbody>\n",
       "    <tr>\n",
       "      <th>0</th>\n",
       "      <td>1.0</td>\n",
       "      <td>2</td>\n",
       "      <td>0.0</td>\n",
       "    </tr>\n",
       "    <tr>\n",
       "      <th>1</th>\n",
       "      <td>0.0</td>\n",
       "      <td>3</td>\n",
       "      <td>4.0</td>\n",
       "    </tr>\n",
       "  </tbody>\n",
       "</table>\n",
       "</div>"
      ],
      "text/plain": [
       "     a  b    c\n",
       "0  1.0  2  0.0\n",
       "1  0.0  3  4.0"
      ]
     },
     "execution_count": 62,
     "metadata": {},
     "output_type": "execute_result"
    }
   ],
   "source": [
    "data.fillna(0)"
   ]
  },
  {
   "cell_type": "code",
   "execution_count": 63,
   "metadata": {},
   "outputs": [
    {
     "data": {
      "text/plain": [
       "<bound method DataFrame.dropna of      a  b    c\n",
       "0  1.0  2  NaN\n",
       "1  NaN  3  4.0>"
      ]
     },
     "execution_count": 63,
     "metadata": {},
     "output_type": "execute_result"
    }
   ],
   "source": [
    "data.dropna"
   ]
  },
  {
   "cell_type": "markdown",
   "metadata": {},
   "source": [
    "# PANDAS ( INDEXING )"
   ]
  },
  {
   "cell_type": "code",
   "execution_count": 66,
   "metadata": {},
   "outputs": [],
   "source": [
    "A = pd.Series(['a','b','c'],index=[1,3,5])"
   ]
  },
  {
   "cell_type": "code",
   "execution_count": 68,
   "metadata": {},
   "outputs": [
    {
     "data": {
      "text/plain": [
       "'a'"
      ]
     },
     "execution_count": 68,
     "metadata": {},
     "output_type": "execute_result"
    }
   ],
   "source": [
    "A[1]"
   ]
  },
  {
   "cell_type": "code",
   "execution_count": 69,
   "metadata": {},
   "outputs": [
    {
     "data": {
      "text/plain": [
       "3    b\n",
       "5    c\n",
       "dtype: object"
      ]
     },
     "execution_count": 69,
     "metadata": {},
     "output_type": "execute_result"
    }
   ],
   "source": [
    "A[1:3]    "
   ]
  },
  {
   "cell_type": "code",
   "execution_count": 71,
   "metadata": {},
   "outputs": [
    {
     "data": {
      "text/plain": [
       "1    a\n",
       "3    b\n",
       "dtype: object"
      ]
     },
     "execution_count": 71,
     "metadata": {},
     "output_type": "execute_result"
    }
   ],
   "source": [
    "A.loc[1:3]    # explixt indexes"
   ]
  },
  {
   "cell_type": "code",
   "execution_count": 72,
   "metadata": {},
   "outputs": [
    {
     "data": {
      "text/plain": [
       "3    b\n",
       "5    c\n",
       "dtype: object"
      ]
     },
     "execution_count": 72,
     "metadata": {},
     "output_type": "execute_result"
    }
   ],
   "source": [
    "A.iloc[1:3]   # implicit indexes"
   ]
  },
  {
   "cell_type": "code",
   "execution_count": 73,
   "metadata": {},
   "outputs": [
    {
     "data": {
      "text/html": [
       "<div>\n",
       "<style scoped>\n",
       "    .dataframe tbody tr th:only-of-type {\n",
       "        vertical-align: middle;\n",
       "    }\n",
       "\n",
       "    .dataframe tbody tr th {\n",
       "        vertical-align: top;\n",
       "    }\n",
       "\n",
       "    .dataframe thead th {\n",
       "        text-align: right;\n",
       "    }\n",
       "</style>\n",
       "<table border=\"1\" class=\"dataframe\">\n",
       "  <thead>\n",
       "    <tr style=\"text-align: right;\">\n",
       "      <th></th>\n",
       "      <th>Marks</th>\n",
       "      <th>Grades</th>\n",
       "    </tr>\n",
       "  </thead>\n",
       "  <tbody>\n",
       "    <tr>\n",
       "      <th>A</th>\n",
       "      <td>85</td>\n",
       "      <td>4.0</td>\n",
       "    </tr>\n",
       "    <tr>\n",
       "      <th>B</th>\n",
       "      <td>75</td>\n",
       "      <td>3.5</td>\n",
       "    </tr>\n",
       "    <tr>\n",
       "      <th>C</th>\n",
       "      <td>65</td>\n",
       "      <td>3.0</td>\n",
       "    </tr>\n",
       "    <tr>\n",
       "      <th>D</th>\n",
       "      <td>55</td>\n",
       "      <td>2.5</td>\n",
       "    </tr>\n",
       "  </tbody>\n",
       "</table>\n",
       "</div>"
      ],
      "text/plain": [
       "   Marks  Grades\n",
       "A     85     4.0\n",
       "B     75     3.5\n",
       "C     65     3.0\n",
       "D     55     2.5"
      ]
     },
     "execution_count": 73,
     "metadata": {},
     "output_type": "execute_result"
    }
   ],
   "source": [
    "D"
   ]
  },
  {
   "cell_type": "code",
   "execution_count": 74,
   "metadata": {},
   "outputs": [
    {
     "data": {
      "text/plain": [
       "Marks     65.0\n",
       "Grades     3.0\n",
       "Name: C, dtype: float64"
      ]
     },
     "execution_count": 74,
     "metadata": {},
     "output_type": "execute_result"
    }
   ],
   "source": [
    "D.iloc[2,:]"
   ]
  },
  {
   "cell_type": "code",
   "execution_count": 77,
   "metadata": {},
   "outputs": [
    {
     "data": {
      "text/html": [
       "<div>\n",
       "<style scoped>\n",
       "    .dataframe tbody tr th:only-of-type {\n",
       "        vertical-align: middle;\n",
       "    }\n",
       "\n",
       "    .dataframe tbody tr th {\n",
       "        vertical-align: top;\n",
       "    }\n",
       "\n",
       "    .dataframe thead th {\n",
       "        text-align: right;\n",
       "    }\n",
       "</style>\n",
       "<table border=\"1\" class=\"dataframe\">\n",
       "  <thead>\n",
       "    <tr style=\"text-align: right;\">\n",
       "      <th></th>\n",
       "      <th>Marks</th>\n",
       "      <th>Grades</th>\n",
       "    </tr>\n",
       "  </thead>\n",
       "  <tbody>\n",
       "    <tr>\n",
       "      <th>D</th>\n",
       "      <td>55</td>\n",
       "      <td>2.5</td>\n",
       "    </tr>\n",
       "    <tr>\n",
       "      <th>C</th>\n",
       "      <td>65</td>\n",
       "      <td>3.0</td>\n",
       "    </tr>\n",
       "    <tr>\n",
       "      <th>B</th>\n",
       "      <td>75</td>\n",
       "      <td>3.5</td>\n",
       "    </tr>\n",
       "    <tr>\n",
       "      <th>A</th>\n",
       "      <td>85</td>\n",
       "      <td>4.0</td>\n",
       "    </tr>\n",
       "  </tbody>\n",
       "</table>\n",
       "</div>"
      ],
      "text/plain": [
       "   Marks  Grades\n",
       "D     55     2.5\n",
       "C     65     3.0\n",
       "B     75     3.5\n",
       "A     85     4.0"
      ]
     },
     "execution_count": 77,
     "metadata": {},
     "output_type": "execute_result"
    }
   ],
   "source": [
    "D.iloc[::-1,:]"
   ]
  },
  {
   "cell_type": "markdown",
   "metadata": {},
   "source": [
    "# PANDAS ( CSV FILES )"
   ]
  },
  {
   "cell_type": "code",
   "execution_count": 1,
   "metadata": {},
   "outputs": [],
   "source": [
    "import pandas as pd"
   ]
  },
  {
   "cell_type": "code",
   "execution_count": 2,
   "metadata": {},
   "outputs": [],
   "source": [
    "import numpy as np"
   ]
  },
  {
   "cell_type": "code",
   "execution_count": 3,
   "metadata": {},
   "outputs": [],
   "source": [
    "from sklearn.impute import SimpleImputer"
   ]
  },
  {
   "cell_type": "code",
   "execution_count": 4,
   "metadata": {},
   "outputs": [
    {
     "data": {
      "text/html": [
       "<div>\n",
       "<style scoped>\n",
       "    .dataframe tbody tr th:only-of-type {\n",
       "        vertical-align: middle;\n",
       "    }\n",
       "\n",
       "    .dataframe tbody tr th {\n",
       "        vertical-align: top;\n",
       "    }\n",
       "\n",
       "    .dataframe thead th {\n",
       "        text-align: right;\n",
       "    }\n",
       "</style>\n",
       "<table border=\"1\" class=\"dataframe\">\n",
       "  <thead>\n",
       "    <tr style=\"text-align: right;\">\n",
       "      <th></th>\n",
       "      <th>Variable</th>\n",
       "      <th>Breakdown</th>\n",
       "      <th>Breakdown_category</th>\n",
       "      <th>Year</th>\n",
       "      <th>RD_Value</th>\n",
       "      <th>Units</th>\n",
       "      <th>Footnotes</th>\n",
       "    </tr>\n",
       "  </thead>\n",
       "  <tbody>\n",
       "    <tr>\n",
       "      <th>0</th>\n",
       "      <td>_01_Current and Capital Expenditure: Total R&amp;D...</td>\n",
       "      <td>ANZSIC_1_Digit</td>\n",
       "      <td>A_Agriculture, Forestry and Fishing</td>\n",
       "      <td>2016</td>\n",
       "      <td>91</td>\n",
       "      <td>NZ Dollars (millions)</td>\n",
       "      <td>8 and 20</td>\n",
       "    </tr>\n",
       "    <tr>\n",
       "      <th>1</th>\n",
       "      <td>_01_Current and Capital Expenditure: Total R&amp;D...</td>\n",
       "      <td>ANZSIC_1_Digit</td>\n",
       "      <td>A_Agriculture, Forestry and Fishing</td>\n",
       "      <td>2018</td>\n",
       "      <td>89</td>\n",
       "      <td>NZ Dollars (millions)</td>\n",
       "      <td>8 and 20</td>\n",
       "    </tr>\n",
       "    <tr>\n",
       "      <th>2</th>\n",
       "      <td>_01_Current and Capital Expenditure: Total R&amp;D...</td>\n",
       "      <td>ANZSIC_1_Digit</td>\n",
       "      <td>A_Agriculture, Forestry and Fishing</td>\n",
       "      <td>2019</td>\n",
       "      <td>89</td>\n",
       "      <td>NZ Dollars (millions)</td>\n",
       "      <td>8 and 9 and 20</td>\n",
       "    </tr>\n",
       "    <tr>\n",
       "      <th>3</th>\n",
       "      <td>_01_Current and Capital Expenditure: Total R&amp;D...</td>\n",
       "      <td>ANZSIC_1_Digit</td>\n",
       "      <td>B_Mining</td>\n",
       "      <td>2016</td>\n",
       "      <td>5</td>\n",
       "      <td>NZ Dollars (millions)</td>\n",
       "      <td>8 and 20</td>\n",
       "    </tr>\n",
       "    <tr>\n",
       "      <th>4</th>\n",
       "      <td>_01_Current and Capital Expenditure: Total R&amp;D...</td>\n",
       "      <td>ANZSIC_1_Digit</td>\n",
       "      <td>B_Mining</td>\n",
       "      <td>2018</td>\n",
       "      <td>9</td>\n",
       "      <td>NZ Dollars (millions)</td>\n",
       "      <td>8 and 20</td>\n",
       "    </tr>\n",
       "    <tr>\n",
       "      <th>...</th>\n",
       "      <td>...</td>\n",
       "      <td>...</td>\n",
       "      <td>...</td>\n",
       "      <td>...</td>\n",
       "      <td>...</td>\n",
       "      <td>...</td>\n",
       "      <td>...</td>\n",
       "    </tr>\n",
       "    <tr>\n",
       "      <th>14941</th>\n",
       "      <td>_89_Reason for not engaging more with CRIs or ...</td>\n",
       "      <td>Size</td>\n",
       "      <td>Zero employees</td>\n",
       "      <td>2018</td>\n",
       "      <td>174</td>\n",
       "      <td>Count of businesses</td>\n",
       "      <td>19 and 21</td>\n",
       "    </tr>\n",
       "    <tr>\n",
       "      <th>14942</th>\n",
       "      <td>_89_Reason for not engaging more with CRIs or ...</td>\n",
       "      <td>Size</td>\n",
       "      <td>Zero employees</td>\n",
       "      <td>2019</td>\n",
       "      <td>186</td>\n",
       "      <td>Count of businesses</td>\n",
       "      <td>9 and 19 and 21</td>\n",
       "    </tr>\n",
       "    <tr>\n",
       "      <th>14943</th>\n",
       "      <td>_89_Reason for not engaging more with CRIs or ...</td>\n",
       "      <td>Total</td>\n",
       "      <td>99_Total all sectors</td>\n",
       "      <td>2016</td>\n",
       "      <td>804</td>\n",
       "      <td>Count of businesses</td>\n",
       "      <td>21</td>\n",
       "    </tr>\n",
       "    <tr>\n",
       "      <th>14944</th>\n",
       "      <td>_89_Reason for not engaging more with CRIs or ...</td>\n",
       "      <td>Total</td>\n",
       "      <td>99_Total all sectors</td>\n",
       "      <td>2018</td>\n",
       "      <td>897</td>\n",
       "      <td>Count of businesses</td>\n",
       "      <td>21</td>\n",
       "    </tr>\n",
       "    <tr>\n",
       "      <th>14945</th>\n",
       "      <td>_89_Reason for not engaging more with CRIs or ...</td>\n",
       "      <td>Total</td>\n",
       "      <td>99_Total all sectors</td>\n",
       "      <td>2019</td>\n",
       "      <td>..</td>\n",
       "      <td>Count of businesses</td>\n",
       "      <td>9 and 21</td>\n",
       "    </tr>\n",
       "  </tbody>\n",
       "</table>\n",
       "<p>14946 rows × 7 columns</p>\n",
       "</div>"
      ],
      "text/plain": [
       "                                                Variable       Breakdown  \\\n",
       "0      _01_Current and Capital Expenditure: Total R&D...  ANZSIC_1_Digit   \n",
       "1      _01_Current and Capital Expenditure: Total R&D...  ANZSIC_1_Digit   \n",
       "2      _01_Current and Capital Expenditure: Total R&D...  ANZSIC_1_Digit   \n",
       "3      _01_Current and Capital Expenditure: Total R&D...  ANZSIC_1_Digit   \n",
       "4      _01_Current and Capital Expenditure: Total R&D...  ANZSIC_1_Digit   \n",
       "...                                                  ...             ...   \n",
       "14941  _89_Reason for not engaging more with CRIs or ...            Size   \n",
       "14942  _89_Reason for not engaging more with CRIs or ...            Size   \n",
       "14943  _89_Reason for not engaging more with CRIs or ...           Total   \n",
       "14944  _89_Reason for not engaging more with CRIs or ...           Total   \n",
       "14945  _89_Reason for not engaging more with CRIs or ...           Total   \n",
       "\n",
       "                        Breakdown_category  Year RD_Value  \\\n",
       "0      A_Agriculture, Forestry and Fishing  2016       91   \n",
       "1      A_Agriculture, Forestry and Fishing  2018       89   \n",
       "2      A_Agriculture, Forestry and Fishing  2019       89   \n",
       "3                                 B_Mining  2016        5   \n",
       "4                                 B_Mining  2018        9   \n",
       "...                                    ...   ...      ...   \n",
       "14941                       Zero employees  2018      174   \n",
       "14942                       Zero employees  2019      186   \n",
       "14943                 99_Total all sectors  2016      804   \n",
       "14944                 99_Total all sectors  2018      897   \n",
       "14945                 99_Total all sectors  2019       ..   \n",
       "\n",
       "                       Units        Footnotes  \n",
       "0      NZ Dollars (millions)         8 and 20  \n",
       "1      NZ Dollars (millions)         8 and 20  \n",
       "2      NZ Dollars (millions)   8 and 9 and 20  \n",
       "3      NZ Dollars (millions)         8 and 20  \n",
       "4      NZ Dollars (millions)         8 and 20  \n",
       "...                      ...              ...  \n",
       "14941    Count of businesses        19 and 21  \n",
       "14942    Count of businesses  9 and 19 and 21  \n",
       "14943    Count of businesses               21  \n",
       "14944    Count of businesses               21  \n",
       "14945    Count of businesses         9 and 21  \n",
       "\n",
       "[14946 rows x 7 columns]"
      ]
     },
     "execution_count": 4,
     "metadata": {},
     "output_type": "execute_result"
    }
   ],
   "source": [
    "df = pd.read_csv('research-and-development-survey-2016-2019.csv')\n",
    "df"
   ]
  },
  {
   "cell_type": "code",
   "execution_count": 36,
   "metadata": {},
   "outputs": [
    {
     "data": {
      "text/html": [
       "<div>\n",
       "<style scoped>\n",
       "    .dataframe tbody tr th:only-of-type {\n",
       "        vertical-align: middle;\n",
       "    }\n",
       "\n",
       "    .dataframe tbody tr th {\n",
       "        vertical-align: top;\n",
       "    }\n",
       "\n",
       "    .dataframe thead th {\n",
       "        text-align: right;\n",
       "    }\n",
       "</style>\n",
       "<table border=\"1\" class=\"dataframe\">\n",
       "  <thead>\n",
       "    <tr style=\"text-align: right;\">\n",
       "      <th></th>\n",
       "      <th>Variable</th>\n",
       "      <th>Breakdown</th>\n",
       "      <th>Breakdown_category</th>\n",
       "      <th>Year</th>\n",
       "      <th>RD_Value</th>\n",
       "      <th>Units</th>\n",
       "      <th>Footnotes</th>\n",
       "    </tr>\n",
       "  </thead>\n",
       "  <tbody>\n",
       "    <tr>\n",
       "      <th>0</th>\n",
       "      <td>_01_Current and Capital Expenditure: Total R&amp;D...</td>\n",
       "      <td>ANZSIC_1_Digit</td>\n",
       "      <td>A_Agriculture, Forestry and Fishing</td>\n",
       "      <td>2016</td>\n",
       "      <td>91</td>\n",
       "      <td>NZ Dollars (millions)</td>\n",
       "      <td>8 and 20</td>\n",
       "    </tr>\n",
       "    <tr>\n",
       "      <th>1</th>\n",
       "      <td>_01_Current and Capital Expenditure: Total R&amp;D...</td>\n",
       "      <td>ANZSIC_1_Digit</td>\n",
       "      <td>A_Agriculture, Forestry and Fishing</td>\n",
       "      <td>2018</td>\n",
       "      <td>89</td>\n",
       "      <td>NZ Dollars (millions)</td>\n",
       "      <td>8 and 20</td>\n",
       "    </tr>\n",
       "    <tr>\n",
       "      <th>2</th>\n",
       "      <td>_01_Current and Capital Expenditure: Total R&amp;D...</td>\n",
       "      <td>ANZSIC_1_Digit</td>\n",
       "      <td>A_Agriculture, Forestry and Fishing</td>\n",
       "      <td>2019</td>\n",
       "      <td>89</td>\n",
       "      <td>NZ Dollars (millions)</td>\n",
       "      <td>8 and 9 and 20</td>\n",
       "    </tr>\n",
       "    <tr>\n",
       "      <th>3</th>\n",
       "      <td>_01_Current and Capital Expenditure: Total R&amp;D...</td>\n",
       "      <td>ANZSIC_1_Digit</td>\n",
       "      <td>B_Mining</td>\n",
       "      <td>2016</td>\n",
       "      <td>5</td>\n",
       "      <td>NZ Dollars (millions)</td>\n",
       "      <td>8 and 20</td>\n",
       "    </tr>\n",
       "    <tr>\n",
       "      <th>4</th>\n",
       "      <td>_01_Current and Capital Expenditure: Total R&amp;D...</td>\n",
       "      <td>ANZSIC_1_Digit</td>\n",
       "      <td>B_Mining</td>\n",
       "      <td>2018</td>\n",
       "      <td>9</td>\n",
       "      <td>NZ Dollars (millions)</td>\n",
       "      <td>8 and 20</td>\n",
       "    </tr>\n",
       "  </tbody>\n",
       "</table>\n",
       "</div>"
      ],
      "text/plain": [
       "                                            Variable       Breakdown  \\\n",
       "0  _01_Current and Capital Expenditure: Total R&D...  ANZSIC_1_Digit   \n",
       "1  _01_Current and Capital Expenditure: Total R&D...  ANZSIC_1_Digit   \n",
       "2  _01_Current and Capital Expenditure: Total R&D...  ANZSIC_1_Digit   \n",
       "3  _01_Current and Capital Expenditure: Total R&D...  ANZSIC_1_Digit   \n",
       "4  _01_Current and Capital Expenditure: Total R&D...  ANZSIC_1_Digit   \n",
       "\n",
       "                    Breakdown_category  Year RD_Value                  Units  \\\n",
       "0  A_Agriculture, Forestry and Fishing  2016       91  NZ Dollars (millions)   \n",
       "1  A_Agriculture, Forestry and Fishing  2018       89  NZ Dollars (millions)   \n",
       "2  A_Agriculture, Forestry and Fishing  2019       89  NZ Dollars (millions)   \n",
       "3                             B_Mining  2016        5  NZ Dollars (millions)   \n",
       "4                             B_Mining  2018        9  NZ Dollars (millions)   \n",
       "\n",
       "        Footnotes  \n",
       "0        8 and 20  \n",
       "1        8 and 20  \n",
       "2  8 and 9 and 20  \n",
       "3        8 and 20  \n",
       "4        8 and 20  "
      ]
     },
     "execution_count": 36,
     "metadata": {},
     "output_type": "execute_result"
    }
   ],
   "source": [
    "df.head()"
   ]
  },
  {
   "cell_type": "code",
   "execution_count": 37,
   "metadata": {
    "scrolled": true
   },
   "outputs": [
    {
     "data": {
      "text/html": [
       "<div>\n",
       "<style scoped>\n",
       "    .dataframe tbody tr th:only-of-type {\n",
       "        vertical-align: middle;\n",
       "    }\n",
       "\n",
       "    .dataframe tbody tr th {\n",
       "        vertical-align: top;\n",
       "    }\n",
       "\n",
       "    .dataframe thead th {\n",
       "        text-align: right;\n",
       "    }\n",
       "</style>\n",
       "<table border=\"1\" class=\"dataframe\">\n",
       "  <thead>\n",
       "    <tr style=\"text-align: right;\">\n",
       "      <th></th>\n",
       "      <th>Variable</th>\n",
       "      <th>Breakdown</th>\n",
       "      <th>Breakdown_category</th>\n",
       "      <th>Year</th>\n",
       "      <th>RD_Value</th>\n",
       "      <th>Units</th>\n",
       "      <th>Footnotes</th>\n",
       "    </tr>\n",
       "  </thead>\n",
       "  <tbody>\n",
       "    <tr>\n",
       "      <th>0</th>\n",
       "      <td>_01_Current and Capital Expenditure: Total R&amp;D...</td>\n",
       "      <td>ANZSIC_1_Digit</td>\n",
       "      <td>A_Agriculture, Forestry and Fishing</td>\n",
       "      <td>2016</td>\n",
       "      <td>91</td>\n",
       "      <td>NZ Dollars (millions)</td>\n",
       "      <td>8 and 20</td>\n",
       "    </tr>\n",
       "    <tr>\n",
       "      <th>1</th>\n",
       "      <td>_01_Current and Capital Expenditure: Total R&amp;D...</td>\n",
       "      <td>ANZSIC_1_Digit</td>\n",
       "      <td>A_Agriculture, Forestry and Fishing</td>\n",
       "      <td>2018</td>\n",
       "      <td>89</td>\n",
       "      <td>NZ Dollars (millions)</td>\n",
       "      <td>8 and 20</td>\n",
       "    </tr>\n",
       "    <tr>\n",
       "      <th>2</th>\n",
       "      <td>_01_Current and Capital Expenditure: Total R&amp;D...</td>\n",
       "      <td>ANZSIC_1_Digit</td>\n",
       "      <td>A_Agriculture, Forestry and Fishing</td>\n",
       "      <td>2019</td>\n",
       "      <td>89</td>\n",
       "      <td>NZ Dollars (millions)</td>\n",
       "      <td>8 and 9 and 20</td>\n",
       "    </tr>\n",
       "    <tr>\n",
       "      <th>3</th>\n",
       "      <td>_01_Current and Capital Expenditure: Total R&amp;D...</td>\n",
       "      <td>ANZSIC_1_Digit</td>\n",
       "      <td>B_Mining</td>\n",
       "      <td>2016</td>\n",
       "      <td>5</td>\n",
       "      <td>NZ Dollars (millions)</td>\n",
       "      <td>8 and 20</td>\n",
       "    </tr>\n",
       "    <tr>\n",
       "      <th>4</th>\n",
       "      <td>_01_Current and Capital Expenditure: Total R&amp;D...</td>\n",
       "      <td>ANZSIC_1_Digit</td>\n",
       "      <td>B_Mining</td>\n",
       "      <td>2018</td>\n",
       "      <td>9</td>\n",
       "      <td>NZ Dollars (millions)</td>\n",
       "      <td>8 and 20</td>\n",
       "    </tr>\n",
       "    <tr>\n",
       "      <th>5</th>\n",
       "      <td>_01_Current and Capital Expenditure: Total R&amp;D...</td>\n",
       "      <td>ANZSIC_1_Digit</td>\n",
       "      <td>B_Mining</td>\n",
       "      <td>2019</td>\n",
       "      <td>9</td>\n",
       "      <td>NZ Dollars (millions)</td>\n",
       "      <td>8 and 9 and 20</td>\n",
       "    </tr>\n",
       "    <tr>\n",
       "      <th>6</th>\n",
       "      <td>_01_Current and Capital Expenditure: Total R&amp;D...</td>\n",
       "      <td>ANZSIC_1_Digit</td>\n",
       "      <td>C_Manufacturing</td>\n",
       "      <td>2016</td>\n",
       "      <td>671</td>\n",
       "      <td>NZ Dollars (millions)</td>\n",
       "      <td>8 and 20</td>\n",
       "    </tr>\n",
       "    <tr>\n",
       "      <th>7</th>\n",
       "      <td>_01_Current and Capital Expenditure: Total R&amp;D...</td>\n",
       "      <td>ANZSIC_1_Digit</td>\n",
       "      <td>C_Manufacturing</td>\n",
       "      <td>2018</td>\n",
       "      <td>673</td>\n",
       "      <td>NZ Dollars (millions)</td>\n",
       "      <td>8 and 20</td>\n",
       "    </tr>\n",
       "    <tr>\n",
       "      <th>8</th>\n",
       "      <td>_01_Current and Capital Expenditure: Total R&amp;D...</td>\n",
       "      <td>ANZSIC_1_Digit</td>\n",
       "      <td>C_Manufacturing</td>\n",
       "      <td>2019</td>\n",
       "      <td>763</td>\n",
       "      <td>NZ Dollars (millions)</td>\n",
       "      <td>8 and 9 and 20</td>\n",
       "    </tr>\n",
       "    <tr>\n",
       "      <th>9</th>\n",
       "      <td>_01_Current and Capital Expenditure: Total R&amp;D...</td>\n",
       "      <td>ANZSIC_1_Digit</td>\n",
       "      <td>D_Electricity, Gas, Water and Waste Services</td>\n",
       "      <td>2016</td>\n",
       "      <td>6</td>\n",
       "      <td>NZ Dollars (millions)</td>\n",
       "      <td>8 and 20</td>\n",
       "    </tr>\n",
       "  </tbody>\n",
       "</table>\n",
       "</div>"
      ],
      "text/plain": [
       "                                            Variable       Breakdown  \\\n",
       "0  _01_Current and Capital Expenditure: Total R&D...  ANZSIC_1_Digit   \n",
       "1  _01_Current and Capital Expenditure: Total R&D...  ANZSIC_1_Digit   \n",
       "2  _01_Current and Capital Expenditure: Total R&D...  ANZSIC_1_Digit   \n",
       "3  _01_Current and Capital Expenditure: Total R&D...  ANZSIC_1_Digit   \n",
       "4  _01_Current and Capital Expenditure: Total R&D...  ANZSIC_1_Digit   \n",
       "5  _01_Current and Capital Expenditure: Total R&D...  ANZSIC_1_Digit   \n",
       "6  _01_Current and Capital Expenditure: Total R&D...  ANZSIC_1_Digit   \n",
       "7  _01_Current and Capital Expenditure: Total R&D...  ANZSIC_1_Digit   \n",
       "8  _01_Current and Capital Expenditure: Total R&D...  ANZSIC_1_Digit   \n",
       "9  _01_Current and Capital Expenditure: Total R&D...  ANZSIC_1_Digit   \n",
       "\n",
       "                             Breakdown_category  Year RD_Value  \\\n",
       "0           A_Agriculture, Forestry and Fishing  2016       91   \n",
       "1           A_Agriculture, Forestry and Fishing  2018       89   \n",
       "2           A_Agriculture, Forestry and Fishing  2019       89   \n",
       "3                                      B_Mining  2016        5   \n",
       "4                                      B_Mining  2018        9   \n",
       "5                                      B_Mining  2019        9   \n",
       "6                               C_Manufacturing  2016      671   \n",
       "7                               C_Manufacturing  2018      673   \n",
       "8                               C_Manufacturing  2019      763   \n",
       "9  D_Electricity, Gas, Water and Waste Services  2016        6   \n",
       "\n",
       "                   Units       Footnotes  \n",
       "0  NZ Dollars (millions)        8 and 20  \n",
       "1  NZ Dollars (millions)        8 and 20  \n",
       "2  NZ Dollars (millions)  8 and 9 and 20  \n",
       "3  NZ Dollars (millions)        8 and 20  \n",
       "4  NZ Dollars (millions)        8 and 20  \n",
       "5  NZ Dollars (millions)  8 and 9 and 20  \n",
       "6  NZ Dollars (millions)        8 and 20  \n",
       "7  NZ Dollars (millions)        8 and 20  \n",
       "8  NZ Dollars (millions)  8 and 9 and 20  \n",
       "9  NZ Dollars (millions)        8 and 20  "
      ]
     },
     "execution_count": 37,
     "metadata": {},
     "output_type": "execute_result"
    }
   ],
   "source": [
    "df.head(10)"
   ]
  },
  {
   "cell_type": "code",
   "execution_count": 38,
   "metadata": {},
   "outputs": [],
   "source": [
    "df.drop(['Units'],axis=1,inplace=True)"
   ]
  },
  {
   "cell_type": "code",
   "execution_count": 39,
   "metadata": {},
   "outputs": [
    {
     "data": {
      "text/html": [
       "<div>\n",
       "<style scoped>\n",
       "    .dataframe tbody tr th:only-of-type {\n",
       "        vertical-align: middle;\n",
       "    }\n",
       "\n",
       "    .dataframe tbody tr th {\n",
       "        vertical-align: top;\n",
       "    }\n",
       "\n",
       "    .dataframe thead th {\n",
       "        text-align: right;\n",
       "    }\n",
       "</style>\n",
       "<table border=\"1\" class=\"dataframe\">\n",
       "  <thead>\n",
       "    <tr style=\"text-align: right;\">\n",
       "      <th></th>\n",
       "      <th>Variable</th>\n",
       "      <th>Breakdown</th>\n",
       "      <th>Breakdown_category</th>\n",
       "      <th>Year</th>\n",
       "      <th>RD_Value</th>\n",
       "      <th>Footnotes</th>\n",
       "    </tr>\n",
       "  </thead>\n",
       "  <tbody>\n",
       "    <tr>\n",
       "      <th>0</th>\n",
       "      <td>_01_Current and Capital Expenditure: Total R&amp;D...</td>\n",
       "      <td>ANZSIC_1_Digit</td>\n",
       "      <td>A_Agriculture, Forestry and Fishing</td>\n",
       "      <td>2016</td>\n",
       "      <td>91</td>\n",
       "      <td>8 and 20</td>\n",
       "    </tr>\n",
       "    <tr>\n",
       "      <th>1</th>\n",
       "      <td>_01_Current and Capital Expenditure: Total R&amp;D...</td>\n",
       "      <td>ANZSIC_1_Digit</td>\n",
       "      <td>A_Agriculture, Forestry and Fishing</td>\n",
       "      <td>2018</td>\n",
       "      <td>89</td>\n",
       "      <td>8 and 20</td>\n",
       "    </tr>\n",
       "    <tr>\n",
       "      <th>2</th>\n",
       "      <td>_01_Current and Capital Expenditure: Total R&amp;D...</td>\n",
       "      <td>ANZSIC_1_Digit</td>\n",
       "      <td>A_Agriculture, Forestry and Fishing</td>\n",
       "      <td>2019</td>\n",
       "      <td>89</td>\n",
       "      <td>8 and 9 and 20</td>\n",
       "    </tr>\n",
       "    <tr>\n",
       "      <th>3</th>\n",
       "      <td>_01_Current and Capital Expenditure: Total R&amp;D...</td>\n",
       "      <td>ANZSIC_1_Digit</td>\n",
       "      <td>B_Mining</td>\n",
       "      <td>2016</td>\n",
       "      <td>5</td>\n",
       "      <td>8 and 20</td>\n",
       "    </tr>\n",
       "    <tr>\n",
       "      <th>4</th>\n",
       "      <td>_01_Current and Capital Expenditure: Total R&amp;D...</td>\n",
       "      <td>ANZSIC_1_Digit</td>\n",
       "      <td>B_Mining</td>\n",
       "      <td>2018</td>\n",
       "      <td>9</td>\n",
       "      <td>8 and 20</td>\n",
       "    </tr>\n",
       "  </tbody>\n",
       "</table>\n",
       "</div>"
      ],
      "text/plain": [
       "                                            Variable       Breakdown  \\\n",
       "0  _01_Current and Capital Expenditure: Total R&D...  ANZSIC_1_Digit   \n",
       "1  _01_Current and Capital Expenditure: Total R&D...  ANZSIC_1_Digit   \n",
       "2  _01_Current and Capital Expenditure: Total R&D...  ANZSIC_1_Digit   \n",
       "3  _01_Current and Capital Expenditure: Total R&D...  ANZSIC_1_Digit   \n",
       "4  _01_Current and Capital Expenditure: Total R&D...  ANZSIC_1_Digit   \n",
       "\n",
       "                    Breakdown_category  Year RD_Value       Footnotes  \n",
       "0  A_Agriculture, Forestry and Fishing  2016       91        8 and 20  \n",
       "1  A_Agriculture, Forestry and Fishing  2018       89        8 and 20  \n",
       "2  A_Agriculture, Forestry and Fishing  2019       89  8 and 9 and 20  \n",
       "3                             B_Mining  2016        5        8 and 20  \n",
       "4                             B_Mining  2018        9        8 and 20  "
      ]
     },
     "execution_count": 39,
     "metadata": {},
     "output_type": "execute_result"
    }
   ],
   "source": [
    "df.head()       # Note that the column with haeding gets removed."
   ]
  },
  {
   "cell_type": "code",
   "execution_count": 41,
   "metadata": {},
   "outputs": [
    {
     "data": {
      "text/html": [
       "<div>\n",
       "<style scoped>\n",
       "    .dataframe tbody tr th:only-of-type {\n",
       "        vertical-align: middle;\n",
       "    }\n",
       "\n",
       "    .dataframe tbody tr th {\n",
       "        vertical-align: top;\n",
       "    }\n",
       "\n",
       "    .dataframe thead th {\n",
       "        text-align: right;\n",
       "    }\n",
       "</style>\n",
       "<table border=\"1\" class=\"dataframe\">\n",
       "  <thead>\n",
       "    <tr style=\"text-align: right;\">\n",
       "      <th></th>\n",
       "      <th>Name</th>\n",
       "      <th>Breakdown</th>\n",
       "      <th>Category</th>\n",
       "      <th>Year</th>\n",
       "      <th>RD_Value</th>\n",
       "      <th>Footnotes</th>\n",
       "    </tr>\n",
       "  </thead>\n",
       "  <tbody>\n",
       "    <tr>\n",
       "      <th>0</th>\n",
       "      <td>_01_Current and Capital Expenditure: Total R&amp;D...</td>\n",
       "      <td>ANZSIC_1_Digit</td>\n",
       "      <td>A_Agriculture, Forestry and Fishing</td>\n",
       "      <td>2016</td>\n",
       "      <td>91</td>\n",
       "      <td>8 and 20</td>\n",
       "    </tr>\n",
       "    <tr>\n",
       "      <th>1</th>\n",
       "      <td>_01_Current and Capital Expenditure: Total R&amp;D...</td>\n",
       "      <td>ANZSIC_1_Digit</td>\n",
       "      <td>A_Agriculture, Forestry and Fishing</td>\n",
       "      <td>2018</td>\n",
       "      <td>89</td>\n",
       "      <td>8 and 20</td>\n",
       "    </tr>\n",
       "    <tr>\n",
       "      <th>2</th>\n",
       "      <td>_01_Current and Capital Expenditure: Total R&amp;D...</td>\n",
       "      <td>ANZSIC_1_Digit</td>\n",
       "      <td>A_Agriculture, Forestry and Fishing</td>\n",
       "      <td>2019</td>\n",
       "      <td>89</td>\n",
       "      <td>8 and 9 and 20</td>\n",
       "    </tr>\n",
       "    <tr>\n",
       "      <th>3</th>\n",
       "      <td>_01_Current and Capital Expenditure: Total R&amp;D...</td>\n",
       "      <td>ANZSIC_1_Digit</td>\n",
       "      <td>B_Mining</td>\n",
       "      <td>2016</td>\n",
       "      <td>5</td>\n",
       "      <td>8 and 20</td>\n",
       "    </tr>\n",
       "    <tr>\n",
       "      <th>4</th>\n",
       "      <td>_01_Current and Capital Expenditure: Total R&amp;D...</td>\n",
       "      <td>ANZSIC_1_Digit</td>\n",
       "      <td>B_Mining</td>\n",
       "      <td>2018</td>\n",
       "      <td>9</td>\n",
       "      <td>8 and 20</td>\n",
       "    </tr>\n",
       "    <tr>\n",
       "      <th>...</th>\n",
       "      <td>...</td>\n",
       "      <td>...</td>\n",
       "      <td>...</td>\n",
       "      <td>...</td>\n",
       "      <td>...</td>\n",
       "      <td>...</td>\n",
       "    </tr>\n",
       "    <tr>\n",
       "      <th>14941</th>\n",
       "      <td>_89_Reason for not engaging more with CRIs or ...</td>\n",
       "      <td>Size</td>\n",
       "      <td>Zero employees</td>\n",
       "      <td>2018</td>\n",
       "      <td>174</td>\n",
       "      <td>19 and 21</td>\n",
       "    </tr>\n",
       "    <tr>\n",
       "      <th>14942</th>\n",
       "      <td>_89_Reason for not engaging more with CRIs or ...</td>\n",
       "      <td>Size</td>\n",
       "      <td>Zero employees</td>\n",
       "      <td>2019</td>\n",
       "      <td>186</td>\n",
       "      <td>9 and 19 and 21</td>\n",
       "    </tr>\n",
       "    <tr>\n",
       "      <th>14943</th>\n",
       "      <td>_89_Reason for not engaging more with CRIs or ...</td>\n",
       "      <td>Total</td>\n",
       "      <td>99_Total all sectors</td>\n",
       "      <td>2016</td>\n",
       "      <td>804</td>\n",
       "      <td>21</td>\n",
       "    </tr>\n",
       "    <tr>\n",
       "      <th>14944</th>\n",
       "      <td>_89_Reason for not engaging more with CRIs or ...</td>\n",
       "      <td>Total</td>\n",
       "      <td>99_Total all sectors</td>\n",
       "      <td>2018</td>\n",
       "      <td>897</td>\n",
       "      <td>21</td>\n",
       "    </tr>\n",
       "    <tr>\n",
       "      <th>14945</th>\n",
       "      <td>_89_Reason for not engaging more with CRIs or ...</td>\n",
       "      <td>Total</td>\n",
       "      <td>99_Total all sectors</td>\n",
       "      <td>2019</td>\n",
       "      <td>..</td>\n",
       "      <td>9 and 21</td>\n",
       "    </tr>\n",
       "  </tbody>\n",
       "</table>\n",
       "<p>14946 rows × 6 columns</p>\n",
       "</div>"
      ],
      "text/plain": [
       "                                                    Name       Breakdown  \\\n",
       "0      _01_Current and Capital Expenditure: Total R&D...  ANZSIC_1_Digit   \n",
       "1      _01_Current and Capital Expenditure: Total R&D...  ANZSIC_1_Digit   \n",
       "2      _01_Current and Capital Expenditure: Total R&D...  ANZSIC_1_Digit   \n",
       "3      _01_Current and Capital Expenditure: Total R&D...  ANZSIC_1_Digit   \n",
       "4      _01_Current and Capital Expenditure: Total R&D...  ANZSIC_1_Digit   \n",
       "...                                                  ...             ...   \n",
       "14941  _89_Reason for not engaging more with CRIs or ...            Size   \n",
       "14942  _89_Reason for not engaging more with CRIs or ...            Size   \n",
       "14943  _89_Reason for not engaging more with CRIs or ...           Total   \n",
       "14944  _89_Reason for not engaging more with CRIs or ...           Total   \n",
       "14945  _89_Reason for not engaging more with CRIs or ...           Total   \n",
       "\n",
       "                                  Category  Year RD_Value        Footnotes  \n",
       "0      A_Agriculture, Forestry and Fishing  2016       91         8 and 20  \n",
       "1      A_Agriculture, Forestry and Fishing  2018       89         8 and 20  \n",
       "2      A_Agriculture, Forestry and Fishing  2019       89   8 and 9 and 20  \n",
       "3                                 B_Mining  2016        5         8 and 20  \n",
       "4                                 B_Mining  2018        9         8 and 20  \n",
       "...                                    ...   ...      ...              ...  \n",
       "14941                       Zero employees  2018      174        19 and 21  \n",
       "14942                       Zero employees  2019      186  9 and 19 and 21  \n",
       "14943                 99_Total all sectors  2016      804               21  \n",
       "14944                 99_Total all sectors  2018      897               21  \n",
       "14945                 99_Total all sectors  2019       ..         9 and 21  \n",
       "\n",
       "[14946 rows x 6 columns]"
      ]
     },
     "execution_count": 41,
     "metadata": {},
     "output_type": "execute_result"
    }
   ],
   "source": [
    "df.rename(columns={'Variable':'Name','Breakdown_category':'Category'})"
   ]
  },
  {
   "cell_type": "code",
   "execution_count": 4,
   "metadata": {},
   "outputs": [
    {
     "data": {
      "text/html": [
       "<div>\n",
       "<style scoped>\n",
       "    .dataframe tbody tr th:only-of-type {\n",
       "        vertical-align: middle;\n",
       "    }\n",
       "\n",
       "    .dataframe tbody tr th {\n",
       "        vertical-align: top;\n",
       "    }\n",
       "\n",
       "    .dataframe thead th {\n",
       "        text-align: right;\n",
       "    }\n",
       "</style>\n",
       "<table border=\"1\" class=\"dataframe\">\n",
       "  <thead>\n",
       "    <tr style=\"text-align: right;\">\n",
       "      <th></th>\n",
       "      <th>Year</th>\n",
       "    </tr>\n",
       "  </thead>\n",
       "  <tbody>\n",
       "    <tr>\n",
       "      <th>count</th>\n",
       "      <td>14946.000000</td>\n",
       "    </tr>\n",
       "    <tr>\n",
       "      <th>mean</th>\n",
       "      <td>2017.666667</td>\n",
       "    </tr>\n",
       "    <tr>\n",
       "      <th>std</th>\n",
       "      <td>1.247261</td>\n",
       "    </tr>\n",
       "    <tr>\n",
       "      <th>min</th>\n",
       "      <td>2016.000000</td>\n",
       "    </tr>\n",
       "    <tr>\n",
       "      <th>25%</th>\n",
       "      <td>2016.000000</td>\n",
       "    </tr>\n",
       "    <tr>\n",
       "      <th>50%</th>\n",
       "      <td>2018.000000</td>\n",
       "    </tr>\n",
       "    <tr>\n",
       "      <th>75%</th>\n",
       "      <td>2019.000000</td>\n",
       "    </tr>\n",
       "    <tr>\n",
       "      <th>max</th>\n",
       "      <td>2019.000000</td>\n",
       "    </tr>\n",
       "  </tbody>\n",
       "</table>\n",
       "</div>"
      ],
      "text/plain": [
       "               Year\n",
       "count  14946.000000\n",
       "mean    2017.666667\n",
       "std        1.247261\n",
       "min     2016.000000\n",
       "25%     2016.000000\n",
       "50%     2018.000000\n",
       "75%     2019.000000\n",
       "max     2019.000000"
      ]
     },
     "execution_count": 4,
     "metadata": {},
     "output_type": "execute_result"
    }
   ],
   "source": [
    "df.describe()"
   ]
  },
  {
   "cell_type": "code",
   "execution_count": 5,
   "metadata": {},
   "outputs": [
    {
     "name": "stdout",
     "output_type": "stream",
     "text": [
      "<class 'pandas.core.frame.DataFrame'>\n",
      "RangeIndex: 14946 entries, 0 to 14945\n",
      "Data columns (total 7 columns):\n",
      " #   Column              Non-Null Count  Dtype \n",
      "---  ------              --------------  ----- \n",
      " 0   Variable            14946 non-null  object\n",
      " 1   Breakdown           14946 non-null  object\n",
      " 2   Breakdown_category  14946 non-null  object\n",
      " 3   Year                14946 non-null  int64 \n",
      " 4   RD_Value            14946 non-null  object\n",
      " 5   Units               14946 non-null  object\n",
      " 6   Footnotes           14946 non-null  object\n",
      "dtypes: int64(1), object(6)\n",
      "memory usage: 817.5+ KB\n"
     ]
    }
   ],
   "source": [
    "df.info()"
   ]
  },
  {
   "cell_type": "code",
   "execution_count": 10,
   "metadata": {},
   "outputs": [
    {
     "data": {
      "text/html": [
       "<div>\n",
       "<style scoped>\n",
       "    .dataframe tbody tr th:only-of-type {\n",
       "        vertical-align: middle;\n",
       "    }\n",
       "\n",
       "    .dataframe tbody tr th {\n",
       "        vertical-align: top;\n",
       "    }\n",
       "\n",
       "    .dataframe thead th {\n",
       "        text-align: right;\n",
       "    }\n",
       "</style>\n",
       "<table border=\"1\" class=\"dataframe\">\n",
       "  <thead>\n",
       "    <tr style=\"text-align: right;\">\n",
       "      <th></th>\n",
       "      <th>Variable</th>\n",
       "      <th>Breakdown</th>\n",
       "      <th>Breakdown_category</th>\n",
       "      <th>Year</th>\n",
       "      <th>RD_Value</th>\n",
       "      <th>Units</th>\n",
       "      <th>Footnotes</th>\n",
       "    </tr>\n",
       "  </thead>\n",
       "  <tbody>\n",
       "    <tr>\n",
       "      <th>0</th>\n",
       "      <td>_01_Current and Capital Expenditure: Total R&amp;D...</td>\n",
       "      <td>ANZSIC_1_Digit</td>\n",
       "      <td>A_Agriculture, Forestry and Fishing</td>\n",
       "      <td>2016</td>\n",
       "      <td>91</td>\n",
       "      <td>NZ Dollars (millions)</td>\n",
       "      <td>8 and 20</td>\n",
       "    </tr>\n",
       "    <tr>\n",
       "      <th>1</th>\n",
       "      <td>_01_Current and Capital Expenditure: Total R&amp;D...</td>\n",
       "      <td>ANZSIC_1_Digit</td>\n",
       "      <td>A_Agriculture, Forestry and Fishing</td>\n",
       "      <td>2018</td>\n",
       "      <td>89</td>\n",
       "      <td>NZ Dollars (millions)</td>\n",
       "      <td>8 and 20</td>\n",
       "    </tr>\n",
       "    <tr>\n",
       "      <th>2</th>\n",
       "      <td>_01_Current and Capital Expenditure: Total R&amp;D...</td>\n",
       "      <td>ANZSIC_1_Digit</td>\n",
       "      <td>A_Agriculture, Forestry and Fishing</td>\n",
       "      <td>2019</td>\n",
       "      <td>89</td>\n",
       "      <td>NZ Dollars (millions)</td>\n",
       "      <td>8 and 9 and 20</td>\n",
       "    </tr>\n",
       "    <tr>\n",
       "      <th>3</th>\n",
       "      <td>_01_Current and Capital Expenditure: Total R&amp;D...</td>\n",
       "      <td>ANZSIC_1_Digit</td>\n",
       "      <td>B_Mining</td>\n",
       "      <td>2016</td>\n",
       "      <td>5</td>\n",
       "      <td>NZ Dollars (millions)</td>\n",
       "      <td>8 and 20</td>\n",
       "    </tr>\n",
       "    <tr>\n",
       "      <th>4</th>\n",
       "      <td>_01_Current and Capital Expenditure: Total R&amp;D...</td>\n",
       "      <td>ANZSIC_1_Digit</td>\n",
       "      <td>B_Mining</td>\n",
       "      <td>2018</td>\n",
       "      <td>9</td>\n",
       "      <td>NZ Dollars (millions)</td>\n",
       "      <td>8 and 20</td>\n",
       "    </tr>\n",
       "    <tr>\n",
       "      <th>...</th>\n",
       "      <td>...</td>\n",
       "      <td>...</td>\n",
       "      <td>...</td>\n",
       "      <td>...</td>\n",
       "      <td>...</td>\n",
       "      <td>...</td>\n",
       "      <td>...</td>\n",
       "    </tr>\n",
       "    <tr>\n",
       "      <th>14941</th>\n",
       "      <td>_89_Reason for not engaging more with CRIs or ...</td>\n",
       "      <td>Size</td>\n",
       "      <td>Zero employees</td>\n",
       "      <td>2018</td>\n",
       "      <td>174</td>\n",
       "      <td>Count of businesses</td>\n",
       "      <td>19 and 21</td>\n",
       "    </tr>\n",
       "    <tr>\n",
       "      <th>14942</th>\n",
       "      <td>_89_Reason for not engaging more with CRIs or ...</td>\n",
       "      <td>Size</td>\n",
       "      <td>Zero employees</td>\n",
       "      <td>2019</td>\n",
       "      <td>186</td>\n",
       "      <td>Count of businesses</td>\n",
       "      <td>9 and 19 and 21</td>\n",
       "    </tr>\n",
       "    <tr>\n",
       "      <th>14943</th>\n",
       "      <td>_89_Reason for not engaging more with CRIs or ...</td>\n",
       "      <td>Total</td>\n",
       "      <td>99_Total all sectors</td>\n",
       "      <td>2016</td>\n",
       "      <td>804</td>\n",
       "      <td>Count of businesses</td>\n",
       "      <td>21</td>\n",
       "    </tr>\n",
       "    <tr>\n",
       "      <th>14944</th>\n",
       "      <td>_89_Reason for not engaging more with CRIs or ...</td>\n",
       "      <td>Total</td>\n",
       "      <td>99_Total all sectors</td>\n",
       "      <td>2018</td>\n",
       "      <td>897</td>\n",
       "      <td>Count of businesses</td>\n",
       "      <td>21</td>\n",
       "    </tr>\n",
       "    <tr>\n",
       "      <th>14945</th>\n",
       "      <td>_89_Reason for not engaging more with CRIs or ...</td>\n",
       "      <td>Total</td>\n",
       "      <td>99_Total all sectors</td>\n",
       "      <td>2019</td>\n",
       "      <td>..</td>\n",
       "      <td>Count of businesses</td>\n",
       "      <td>9 and 21</td>\n",
       "    </tr>\n",
       "  </tbody>\n",
       "</table>\n",
       "<p>14946 rows × 7 columns</p>\n",
       "</div>"
      ],
      "text/plain": [
       "                                                Variable       Breakdown  \\\n",
       "0      _01_Current and Capital Expenditure: Total R&D...  ANZSIC_1_Digit   \n",
       "1      _01_Current and Capital Expenditure: Total R&D...  ANZSIC_1_Digit   \n",
       "2      _01_Current and Capital Expenditure: Total R&D...  ANZSIC_1_Digit   \n",
       "3      _01_Current and Capital Expenditure: Total R&D...  ANZSIC_1_Digit   \n",
       "4      _01_Current and Capital Expenditure: Total R&D...  ANZSIC_1_Digit   \n",
       "...                                                  ...             ...   \n",
       "14941  _89_Reason for not engaging more with CRIs or ...            Size   \n",
       "14942  _89_Reason for not engaging more with CRIs or ...            Size   \n",
       "14943  _89_Reason for not engaging more with CRIs or ...           Total   \n",
       "14944  _89_Reason for not engaging more with CRIs or ...           Total   \n",
       "14945  _89_Reason for not engaging more with CRIs or ...           Total   \n",
       "\n",
       "                        Breakdown_category  Year RD_Value  \\\n",
       "0      A_Agriculture, Forestry and Fishing  2016       91   \n",
       "1      A_Agriculture, Forestry and Fishing  2018       89   \n",
       "2      A_Agriculture, Forestry and Fishing  2019       89   \n",
       "3                                 B_Mining  2016        5   \n",
       "4                                 B_Mining  2018        9   \n",
       "...                                    ...   ...      ...   \n",
       "14941                       Zero employees  2018      174   \n",
       "14942                       Zero employees  2019      186   \n",
       "14943                 99_Total all sectors  2016      804   \n",
       "14944                 99_Total all sectors  2018      897   \n",
       "14945                 99_Total all sectors  2019       ..   \n",
       "\n",
       "                       Units        Footnotes  \n",
       "0      NZ Dollars (millions)         8 and 20  \n",
       "1      NZ Dollars (millions)         8 and 20  \n",
       "2      NZ Dollars (millions)   8 and 9 and 20  \n",
       "3      NZ Dollars (millions)         8 and 20  \n",
       "4      NZ Dollars (millions)         8 and 20  \n",
       "...                      ...              ...  \n",
       "14941    Count of businesses        19 and 21  \n",
       "14942    Count of businesses  9 and 19 and 21  \n",
       "14943    Count of businesses               21  \n",
       "14944    Count of businesses               21  \n",
       "14945    Count of businesses         9 and 21  \n",
       "\n",
       "[14946 rows x 7 columns]"
      ]
     },
     "execution_count": 10,
     "metadata": {},
     "output_type": "execute_result"
    }
   ],
   "source": [
    "df.fillna('NA')          # this will fill the null value by  NAN  # although there is no  null value in this data"
   ]
  },
  {
   "cell_type": "code",
   "execution_count": 12,
   "metadata": {},
   "outputs": [
    {
     "data": {
      "text/html": [
       "<div>\n",
       "<style scoped>\n",
       "    .dataframe tbody tr th:only-of-type {\n",
       "        vertical-align: middle;\n",
       "    }\n",
       "\n",
       "    .dataframe tbody tr th {\n",
       "        vertical-align: top;\n",
       "    }\n",
       "\n",
       "    .dataframe thead th {\n",
       "        text-align: right;\n",
       "    }\n",
       "</style>\n",
       "<table border=\"1\" class=\"dataframe\">\n",
       "  <thead>\n",
       "    <tr style=\"text-align: right;\">\n",
       "      <th></th>\n",
       "      <th>Variable</th>\n",
       "      <th>Breakdown</th>\n",
       "      <th>Breakdown_category</th>\n",
       "      <th>Year</th>\n",
       "      <th>RD_Value</th>\n",
       "      <th>Units</th>\n",
       "      <th>Footnotes</th>\n",
       "    </tr>\n",
       "  </thead>\n",
       "  <tbody>\n",
       "    <tr>\n",
       "      <th>0</th>\n",
       "      <td>_01_Current and Capital Expenditure: Total R&amp;D...</td>\n",
       "      <td>ANZSIC_1_Digit</td>\n",
       "      <td>A_Agriculture, Forestry and Fishing</td>\n",
       "      <td>2016</td>\n",
       "      <td>91</td>\n",
       "      <td>NZ Dollars (millions)</td>\n",
       "      <td>8 and 20</td>\n",
       "    </tr>\n",
       "    <tr>\n",
       "      <th>1</th>\n",
       "      <td>_01_Current and Capital Expenditure: Total R&amp;D...</td>\n",
       "      <td>ANZSIC_1_Digit</td>\n",
       "      <td>A_Agriculture, Forestry and Fishing</td>\n",
       "      <td>2018</td>\n",
       "      <td>89</td>\n",
       "      <td>NZ Dollars (millions)</td>\n",
       "      <td>8 and 20</td>\n",
       "    </tr>\n",
       "    <tr>\n",
       "      <th>2</th>\n",
       "      <td>_01_Current and Capital Expenditure: Total R&amp;D...</td>\n",
       "      <td>ANZSIC_1_Digit</td>\n",
       "      <td>A_Agriculture, Forestry and Fishing</td>\n",
       "      <td>2019</td>\n",
       "      <td>89</td>\n",
       "      <td>NZ Dollars (millions)</td>\n",
       "      <td>8 and 9 and 20</td>\n",
       "    </tr>\n",
       "    <tr>\n",
       "      <th>3</th>\n",
       "      <td>_01_Current and Capital Expenditure: Total R&amp;D...</td>\n",
       "      <td>ANZSIC_1_Digit</td>\n",
       "      <td>B_Mining</td>\n",
       "      <td>2016</td>\n",
       "      <td>5</td>\n",
       "      <td>NZ Dollars (millions)</td>\n",
       "      <td>8 and 20</td>\n",
       "    </tr>\n",
       "    <tr>\n",
       "      <th>4</th>\n",
       "      <td>_01_Current and Capital Expenditure: Total R&amp;D...</td>\n",
       "      <td>ANZSIC_1_Digit</td>\n",
       "      <td>B_Mining</td>\n",
       "      <td>2018</td>\n",
       "      <td>9</td>\n",
       "      <td>NZ Dollars (millions)</td>\n",
       "      <td>8 and 20</td>\n",
       "    </tr>\n",
       "    <tr>\n",
       "      <th>5</th>\n",
       "      <td>_01_Current and Capital Expenditure: Total R&amp;D...</td>\n",
       "      <td>ANZSIC_1_Digit</td>\n",
       "      <td>B_Mining</td>\n",
       "      <td>2019</td>\n",
       "      <td>9</td>\n",
       "      <td>NZ Dollars (millions)</td>\n",
       "      <td>8 and 9 and 20</td>\n",
       "    </tr>\n",
       "    <tr>\n",
       "      <th>6</th>\n",
       "      <td>_01_Current and Capital Expenditure: Total R&amp;D...</td>\n",
       "      <td>ANZSIC_1_Digit</td>\n",
       "      <td>C_Manufacturing</td>\n",
       "      <td>2016</td>\n",
       "      <td>671</td>\n",
       "      <td>NZ Dollars (millions)</td>\n",
       "      <td>8 and 20</td>\n",
       "    </tr>\n",
       "    <tr>\n",
       "      <th>7</th>\n",
       "      <td>_01_Current and Capital Expenditure: Total R&amp;D...</td>\n",
       "      <td>ANZSIC_1_Digit</td>\n",
       "      <td>C_Manufacturing</td>\n",
       "      <td>2018</td>\n",
       "      <td>673</td>\n",
       "      <td>NZ Dollars (millions)</td>\n",
       "      <td>8 and 20</td>\n",
       "    </tr>\n",
       "    <tr>\n",
       "      <th>8</th>\n",
       "      <td>_01_Current and Capital Expenditure: Total R&amp;D...</td>\n",
       "      <td>ANZSIC_1_Digit</td>\n",
       "      <td>C_Manufacturing</td>\n",
       "      <td>2019</td>\n",
       "      <td>763</td>\n",
       "      <td>NZ Dollars (millions)</td>\n",
       "      <td>8 and 9 and 20</td>\n",
       "    </tr>\n",
       "    <tr>\n",
       "      <th>9</th>\n",
       "      <td>_01_Current and Capital Expenditure: Total R&amp;D...</td>\n",
       "      <td>ANZSIC_1_Digit</td>\n",
       "      <td>D_Electricity, Gas, Water and Waste Services</td>\n",
       "      <td>2016</td>\n",
       "      <td>6</td>\n",
       "      <td>NZ Dollars (millions)</td>\n",
       "      <td>8 and 20</td>\n",
       "    </tr>\n",
       "  </tbody>\n",
       "</table>\n",
       "</div>"
      ],
      "text/plain": [
       "                                            Variable       Breakdown  \\\n",
       "0  _01_Current and Capital Expenditure: Total R&D...  ANZSIC_1_Digit   \n",
       "1  _01_Current and Capital Expenditure: Total R&D...  ANZSIC_1_Digit   \n",
       "2  _01_Current and Capital Expenditure: Total R&D...  ANZSIC_1_Digit   \n",
       "3  _01_Current and Capital Expenditure: Total R&D...  ANZSIC_1_Digit   \n",
       "4  _01_Current and Capital Expenditure: Total R&D...  ANZSIC_1_Digit   \n",
       "5  _01_Current and Capital Expenditure: Total R&D...  ANZSIC_1_Digit   \n",
       "6  _01_Current and Capital Expenditure: Total R&D...  ANZSIC_1_Digit   \n",
       "7  _01_Current and Capital Expenditure: Total R&D...  ANZSIC_1_Digit   \n",
       "8  _01_Current and Capital Expenditure: Total R&D...  ANZSIC_1_Digit   \n",
       "9  _01_Current and Capital Expenditure: Total R&D...  ANZSIC_1_Digit   \n",
       "\n",
       "                             Breakdown_category  Year RD_Value  \\\n",
       "0           A_Agriculture, Forestry and Fishing  2016       91   \n",
       "1           A_Agriculture, Forestry and Fishing  2018       89   \n",
       "2           A_Agriculture, Forestry and Fishing  2019       89   \n",
       "3                                      B_Mining  2016        5   \n",
       "4                                      B_Mining  2018        9   \n",
       "5                                      B_Mining  2019        9   \n",
       "6                               C_Manufacturing  2016      671   \n",
       "7                               C_Manufacturing  2018      673   \n",
       "8                               C_Manufacturing  2019      763   \n",
       "9  D_Electricity, Gas, Water and Waste Services  2016        6   \n",
       "\n",
       "                   Units       Footnotes  \n",
       "0  NZ Dollars (millions)        8 and 20  \n",
       "1  NZ Dollars (millions)        8 and 20  \n",
       "2  NZ Dollars (millions)  8 and 9 and 20  \n",
       "3  NZ Dollars (millions)        8 and 20  \n",
       "4  NZ Dollars (millions)        8 and 20  \n",
       "5  NZ Dollars (millions)  8 and 9 and 20  \n",
       "6  NZ Dollars (millions)        8 and 20  \n",
       "7  NZ Dollars (millions)        8 and 20  \n",
       "8  NZ Dollars (millions)  8 and 9 and 20  \n",
       "9  NZ Dollars (millions)        8 and 20  "
      ]
     },
     "execution_count": 12,
     "metadata": {},
     "output_type": "execute_result"
    }
   ],
   "source": [
    "df.head(10)"
   ]
  },
  {
   "cell_type": "code",
   "execution_count": 18,
   "metadata": {},
   "outputs": [
    {
     "data": {
      "text/html": [
       "<div>\n",
       "<style scoped>\n",
       "    .dataframe tbody tr th:only-of-type {\n",
       "        vertical-align: middle;\n",
       "    }\n",
       "\n",
       "    .dataframe tbody tr th {\n",
       "        vertical-align: top;\n",
       "    }\n",
       "\n",
       "    .dataframe thead th {\n",
       "        text-align: right;\n",
       "    }\n",
       "</style>\n",
       "<table border=\"1\" class=\"dataframe\">\n",
       "  <thead>\n",
       "    <tr style=\"text-align: right;\">\n",
       "      <th></th>\n",
       "      <th>Variable</th>\n",
       "      <th>Year</th>\n",
       "    </tr>\n",
       "  </thead>\n",
       "  <tbody>\n",
       "    <tr>\n",
       "      <th>0</th>\n",
       "      <td>_01_Current and Capital Expenditure: Total R&amp;D...</td>\n",
       "      <td>284491</td>\n",
       "    </tr>\n",
       "    <tr>\n",
       "      <th>1</th>\n",
       "      <td>_02_Current and Capital Expenditure: Wages and...</td>\n",
       "      <td>284491</td>\n",
       "    </tr>\n",
       "    <tr>\n",
       "      <th>2</th>\n",
       "      <td>_03_Current and Capital Expenditure: Capital E...</td>\n",
       "      <td>284491</td>\n",
       "    </tr>\n",
       "    <tr>\n",
       "      <th>3</th>\n",
       "      <td>_03a_Current and Capital Expenditure: Capital ...</td>\n",
       "      <td>284491</td>\n",
       "    </tr>\n",
       "    <tr>\n",
       "      <th>4</th>\n",
       "      <td>_03b_Current and Capital Expenditure: Capital ...</td>\n",
       "      <td>284491</td>\n",
       "    </tr>\n",
       "    <tr>\n",
       "      <th>...</th>\n",
       "      <td>...</td>\n",
       "      <td>...</td>\n",
       "    </tr>\n",
       "    <tr>\n",
       "      <th>101</th>\n",
       "      <td>_85_Reason for not engaging more with CRIs or ...</td>\n",
       "      <td>284491</td>\n",
       "    </tr>\n",
       "    <tr>\n",
       "      <th>102</th>\n",
       "      <td>_86_Reason for not engaging more with CRIs or ...</td>\n",
       "      <td>284491</td>\n",
       "    </tr>\n",
       "    <tr>\n",
       "      <th>103</th>\n",
       "      <td>_87_Reason for not engaging more with CRIs or ...</td>\n",
       "      <td>284491</td>\n",
       "    </tr>\n",
       "    <tr>\n",
       "      <th>104</th>\n",
       "      <td>_88_Reason for not engaging more with CRIs or ...</td>\n",
       "      <td>284491</td>\n",
       "    </tr>\n",
       "    <tr>\n",
       "      <th>105</th>\n",
       "      <td>_89_Reason for not engaging more with CRIs or ...</td>\n",
       "      <td>284491</td>\n",
       "    </tr>\n",
       "  </tbody>\n",
       "</table>\n",
       "<p>106 rows × 2 columns</p>\n",
       "</div>"
      ],
      "text/plain": [
       "                                              Variable    Year\n",
       "0    _01_Current and Capital Expenditure: Total R&D...  284491\n",
       "1    _02_Current and Capital Expenditure: Wages and...  284491\n",
       "2    _03_Current and Capital Expenditure: Capital E...  284491\n",
       "3    _03a_Current and Capital Expenditure: Capital ...  284491\n",
       "4    _03b_Current and Capital Expenditure: Capital ...  284491\n",
       "..                                                 ...     ...\n",
       "101  _85_Reason for not engaging more with CRIs or ...  284491\n",
       "102  _86_Reason for not engaging more with CRIs or ...  284491\n",
       "103  _87_Reason for not engaging more with CRIs or ...  284491\n",
       "104  _88_Reason for not engaging more with CRIs or ...  284491\n",
       "105  _89_Reason for not engaging more with CRIs or ...  284491\n",
       "\n",
       "[106 rows x 2 columns]"
      ]
     },
     "execution_count": 18,
     "metadata": {},
     "output_type": "execute_result"
    }
   ],
   "source": [
    "df2 = df.groupby('Variable')[['Variable','Year','Breakdown','RD_Value']].sum().reset_index()\n",
    "df2"
   ]
  },
  {
   "cell_type": "code",
   "execution_count": null,
   "metadata": {},
   "outputs": [],
   "source": [
    "# there is many more to explore in pandas.... go through several datas and play along"
   ]
  },
  {
   "cell_type": "markdown",
   "metadata": {},
   "source": [
    "# MATPLOTLIB  "
   ]
  },
  {
   "cell_type": "code",
   "execution_count": 22,
   "metadata": {},
   "outputs": [],
   "source": [
    "import numpy as np\n",
    "import matplotlib.pyplot as plt"
   ]
  },
  {
   "cell_type": "code",
   "execution_count": 31,
   "metadata": {
    "scrolled": true
   },
   "outputs": [
    {
     "data": {
      "text/plain": [
       "[<matplotlib.lines.Line2D at 0x2840976e9a0>]"
      ]
     },
     "execution_count": 31,
     "metadata": {},
     "output_type": "execute_result"
    },
    {
     "data": {
      "image/png": "[encoded data removed]",
      "text/plain": [
       "<Figure size 432x288 with 1 Axes>"
      ]
     },
     "metadata": {
      "needs_background": "light"
     },
     "output_type": "display_data"
    }
   ],
   "source": [
    "x = np.linspace(0,10,1000)\n",
    "y = np.sin(x)\n",
    "plt.plot(x,y)"
   ]
  },
  {
   "cell_type": "markdown",
   "metadata": {},
   "source": [
    "SCATTER PLOT"
   ]
  },
  {
   "cell_type": "code",
   "execution_count": 36,
   "metadata": {},
   "outputs": [
    {
     "data": {
      "text/plain": [
       "<matplotlib.collections.PathCollection at 0x2840a8a81c0>"
      ]
     },
     "execution_count": 36,
     "metadata": {},
     "output_type": "execute_result"
    },
    {
     "data": {
      "image/png": "[encoded data removed]",
      "text/plain": [
       "<Figure size 432x288 with 1 Axes>"
      ]
     },
     "metadata": {
      "needs_background": "light"
     },
     "output_type": "display_data"
    }
   ],
   "source": [
    "plt.scatter(x[::10],y[::10],color='green')"
   ]
  },
  {
   "cell_type": "code",
   "execution_count": 29,
   "metadata": {},
   "outputs": [
    {
     "data": {
      "image/png": "[encoded data removed]",
      "text/plain": [
       "<Figure size 432x288 with 1 Axes>"
      ]
     },
     "metadata": {
      "needs_background": "light"
     },
     "output_type": "display_data"
    }
   ],
   "source": [
    "x = np.linspace(0,10,100)\n",
    "plt.plot(x,np.tan(x));"
   ]
  },
  {
   "cell_type": "code",
   "execution_count": 46,
   "metadata": {},
   "outputs": [
    {
     "data": {
      "text/plain": [
       "[<matplotlib.lines.Line2D at 0x2840acd4850>]"
      ]
     },
     "execution_count": 46,
     "metadata": {},
     "output_type": "execute_result"
    },
    {
     "data": {
      "image/png": "[encoded data removed]",
      "text/plain": [
       "<Figure size 432x288 with 1 Axes>"
      ]
     },
     "metadata": {
      "needs_background": "light"
     },
     "output_type": "display_data"
    }
   ],
   "source": [
    "plt.plot(x,y,color='b')                # here b is for blue color.\n",
    "plt.plot(x,np.cos(x),color='g')        # here g is for the green color."
   ]
  },
  {
   "cell_type": "markdown",
   "metadata": {},
   "source": [
    "ANALYSING THE DATA OF THE CSV FILE TO PLOT THE GRAPH"
   ]
  },
  {
   "cell_type": "code",
   "execution_count": 5,
   "metadata": {},
   "outputs": [
    {
     "data": {
      "text/html": [
       "<div>\n",
       "<style scoped>\n",
       "    .dataframe tbody tr th:only-of-type {\n",
       "        vertical-align: middle;\n",
       "    }\n",
       "\n",
       "    .dataframe tbody tr th {\n",
       "        vertical-align: top;\n",
       "    }\n",
       "\n",
       "    .dataframe thead th {\n",
       "        text-align: right;\n",
       "    }\n",
       "</style>\n",
       "<table border=\"1\" class=\"dataframe\">\n",
       "  <thead>\n",
       "    <tr style=\"text-align: right;\">\n",
       "      <th></th>\n",
       "      <th>Variable</th>\n",
       "      <th>Breakdown</th>\n",
       "      <th>Breakdown_category</th>\n",
       "      <th>Year</th>\n",
       "      <th>RD_Value</th>\n",
       "      <th>Units</th>\n",
       "      <th>Footnotes</th>\n",
       "    </tr>\n",
       "  </thead>\n",
       "  <tbody>\n",
       "    <tr>\n",
       "      <th>0</th>\n",
       "      <td>_01_Current and Capital Expenditure: Total R&amp;D...</td>\n",
       "      <td>ANZSIC_1_Digit</td>\n",
       "      <td>A_Agriculture, Forestry and Fishing</td>\n",
       "      <td>2016</td>\n",
       "      <td>91</td>\n",
       "      <td>NZ Dollars (millions)</td>\n",
       "      <td>8 and 20</td>\n",
       "    </tr>\n",
       "    <tr>\n",
       "      <th>1</th>\n",
       "      <td>_01_Current and Capital Expenditure: Total R&amp;D...</td>\n",
       "      <td>ANZSIC_1_Digit</td>\n",
       "      <td>A_Agriculture, Forestry and Fishing</td>\n",
       "      <td>2018</td>\n",
       "      <td>89</td>\n",
       "      <td>NZ Dollars (millions)</td>\n",
       "      <td>8 and 20</td>\n",
       "    </tr>\n",
       "    <tr>\n",
       "      <th>2</th>\n",
       "      <td>_01_Current and Capital Expenditure: Total R&amp;D...</td>\n",
       "      <td>ANZSIC_1_Digit</td>\n",
       "      <td>A_Agriculture, Forestry and Fishing</td>\n",
       "      <td>2019</td>\n",
       "      <td>89</td>\n",
       "      <td>NZ Dollars (millions)</td>\n",
       "      <td>8 and 9 and 20</td>\n",
       "    </tr>\n",
       "    <tr>\n",
       "      <th>3</th>\n",
       "      <td>_01_Current and Capital Expenditure: Total R&amp;D...</td>\n",
       "      <td>ANZSIC_1_Digit</td>\n",
       "      <td>B_Mining</td>\n",
       "      <td>2016</td>\n",
       "      <td>5</td>\n",
       "      <td>NZ Dollars (millions)</td>\n",
       "      <td>8 and 20</td>\n",
       "    </tr>\n",
       "    <tr>\n",
       "      <th>4</th>\n",
       "      <td>_01_Current and Capital Expenditure: Total R&amp;D...</td>\n",
       "      <td>ANZSIC_1_Digit</td>\n",
       "      <td>B_Mining</td>\n",
       "      <td>2018</td>\n",
       "      <td>9</td>\n",
       "      <td>NZ Dollars (millions)</td>\n",
       "      <td>8 and 20</td>\n",
       "    </tr>\n",
       "    <tr>\n",
       "      <th>5</th>\n",
       "      <td>_01_Current and Capital Expenditure: Total R&amp;D...</td>\n",
       "      <td>ANZSIC_1_Digit</td>\n",
       "      <td>B_Mining</td>\n",
       "      <td>2019</td>\n",
       "      <td>9</td>\n",
       "      <td>NZ Dollars (millions)</td>\n",
       "      <td>8 and 9 and 20</td>\n",
       "    </tr>\n",
       "    <tr>\n",
       "      <th>6</th>\n",
       "      <td>_01_Current and Capital Expenditure: Total R&amp;D...</td>\n",
       "      <td>ANZSIC_1_Digit</td>\n",
       "      <td>C_Manufacturing</td>\n",
       "      <td>2016</td>\n",
       "      <td>671</td>\n",
       "      <td>NZ Dollars (millions)</td>\n",
       "      <td>8 and 20</td>\n",
       "    </tr>\n",
       "    <tr>\n",
       "      <th>7</th>\n",
       "      <td>_01_Current and Capital Expenditure: Total R&amp;D...</td>\n",
       "      <td>ANZSIC_1_Digit</td>\n",
       "      <td>C_Manufacturing</td>\n",
       "      <td>2018</td>\n",
       "      <td>673</td>\n",
       "      <td>NZ Dollars (millions)</td>\n",
       "      <td>8 and 20</td>\n",
       "    </tr>\n",
       "    <tr>\n",
       "      <th>8</th>\n",
       "      <td>_01_Current and Capital Expenditure: Total R&amp;D...</td>\n",
       "      <td>ANZSIC_1_Digit</td>\n",
       "      <td>C_Manufacturing</td>\n",
       "      <td>2019</td>\n",
       "      <td>763</td>\n",
       "      <td>NZ Dollars (millions)</td>\n",
       "      <td>8 and 9 and 20</td>\n",
       "    </tr>\n",
       "    <tr>\n",
       "      <th>9</th>\n",
       "      <td>_01_Current and Capital Expenditure: Total R&amp;D...</td>\n",
       "      <td>ANZSIC_1_Digit</td>\n",
       "      <td>D_Electricity, Gas, Water and Waste Services</td>\n",
       "      <td>2016</td>\n",
       "      <td>6</td>\n",
       "      <td>NZ Dollars (millions)</td>\n",
       "      <td>8 and 20</td>\n",
       "    </tr>\n",
       "  </tbody>\n",
       "</table>\n",
       "</div>"
      ],
      "text/plain": [
       "                                            Variable       Breakdown  \\\n",
       "0  _01_Current and Capital Expenditure: Total R&D...  ANZSIC_1_Digit   \n",
       "1  _01_Current and Capital Expenditure: Total R&D...  ANZSIC_1_Digit   \n",
       "2  _01_Current and Capital Expenditure: Total R&D...  ANZSIC_1_Digit   \n",
       "3  _01_Current and Capital Expenditure: Total R&D...  ANZSIC_1_Digit   \n",
       "4  _01_Current and Capital Expenditure: Total R&D...  ANZSIC_1_Digit   \n",
       "5  _01_Current and Capital Expenditure: Total R&D...  ANZSIC_1_Digit   \n",
       "6  _01_Current and Capital Expenditure: Total R&D...  ANZSIC_1_Digit   \n",
       "7  _01_Current and Capital Expenditure: Total R&D...  ANZSIC_1_Digit   \n",
       "8  _01_Current and Capital Expenditure: Total R&D...  ANZSIC_1_Digit   \n",
       "9  _01_Current and Capital Expenditure: Total R&D...  ANZSIC_1_Digit   \n",
       "\n",
       "                             Breakdown_category  Year RD_Value  \\\n",
       "0           A_Agriculture, Forestry and Fishing  2016       91   \n",
       "1           A_Agriculture, Forestry and Fishing  2018       89   \n",
       "2           A_Agriculture, Forestry and Fishing  2019       89   \n",
       "3                                      B_Mining  2016        5   \n",
       "4                                      B_Mining  2018        9   \n",
       "5                                      B_Mining  2019        9   \n",
       "6                               C_Manufacturing  2016      671   \n",
       "7                               C_Manufacturing  2018      673   \n",
       "8                               C_Manufacturing  2019      763   \n",
       "9  D_Electricity, Gas, Water and Waste Services  2016        6   \n",
       "\n",
       "                   Units       Footnotes  \n",
       "0  NZ Dollars (millions)        8 and 20  \n",
       "1  NZ Dollars (millions)        8 and 20  \n",
       "2  NZ Dollars (millions)  8 and 9 and 20  \n",
       "3  NZ Dollars (millions)        8 and 20  \n",
       "4  NZ Dollars (millions)        8 and 20  \n",
       "5  NZ Dollars (millions)  8 and 9 and 20  \n",
       "6  NZ Dollars (millions)        8 and 20  \n",
       "7  NZ Dollars (millions)        8 and 20  \n",
       "8  NZ Dollars (millions)  8 and 9 and 20  \n",
       "9  NZ Dollars (millions)        8 and 20  "
      ]
     },
     "execution_count": 5,
     "metadata": {},
     "output_type": "execute_result"
    }
   ],
   "source": [
    "df.head(10)"
   ]
  },
  {
   "cell_type": "code",
   "execution_count": 49,
   "metadata": {},
   "outputs": [],
   "source": [
    "# matplotlib plotting while using the covid data."
   ]
  },
  {
   "cell_type": "code",
   "execution_count": 20,
   "metadata": {},
   "outputs": [],
   "source": [
    "df1 = df.groupby(['Variable','Footnotes'])[['Breakdown_category','Year','RD_Value','Units','Footnotes']].sum().reset_index()"
   ]
  },
  {
   "cell_type": "code",
   "execution_count": 18,
   "metadata": {},
   "outputs": [
    {
     "data": {
      "text/html": [
       "<div>\n",
       "<style scoped>\n",
       "    .dataframe tbody tr th:only-of-type {\n",
       "        vertical-align: middle;\n",
       "    }\n",
       "\n",
       "    .dataframe tbody tr th {\n",
       "        vertical-align: top;\n",
       "    }\n",
       "\n",
       "    .dataframe thead th {\n",
       "        text-align: right;\n",
       "    }\n",
       "</style>\n",
       "<table border=\"1\" class=\"dataframe\">\n",
       "  <thead>\n",
       "    <tr style=\"text-align: right;\">\n",
       "      <th></th>\n",
       "      <th>Variable</th>\n",
       "      <th>Footnotes</th>\n",
       "      <th>Year</th>\n",
       "    </tr>\n",
       "  </thead>\n",
       "  <tbody>\n",
       "    <tr>\n",
       "      <th>0</th>\n",
       "      <td>_01_Current and Capital Expenditure: Total R&amp;D...</td>\n",
       "      <td>1 and 6 and 8 and 20</td>\n",
       "      <td>4034</td>\n",
       "    </tr>\n",
       "    <tr>\n",
       "      <th>1</th>\n",
       "      <td>_01_Current and Capital Expenditure: Total R&amp;D...</td>\n",
       "      <td>1 and 6 and 8 and 9 and 20</td>\n",
       "      <td>2019</td>\n",
       "    </tr>\n",
       "    <tr>\n",
       "      <th>2</th>\n",
       "      <td>_01_Current and Capital Expenditure: Total R&amp;D...</td>\n",
       "      <td>1 and 8 and 20</td>\n",
       "      <td>92782</td>\n",
       "    </tr>\n",
       "    <tr>\n",
       "      <th>3</th>\n",
       "      <td>_01_Current and Capital Expenditure: Total R&amp;D...</td>\n",
       "      <td>1 and 8 and 9 and 20</td>\n",
       "      <td>46437</td>\n",
       "    </tr>\n",
       "    <tr>\n",
       "      <th>4</th>\n",
       "      <td>_01_Current and Capital Expenditure: Total R&amp;D...</td>\n",
       "      <td>8 and 19 and 20</td>\n",
       "      <td>24204</td>\n",
       "    </tr>\n",
       "  </tbody>\n",
       "</table>\n",
       "</div>"
      ],
      "text/plain": [
       "                                            Variable  \\\n",
       "0  _01_Current and Capital Expenditure: Total R&D...   \n",
       "1  _01_Current and Capital Expenditure: Total R&D...   \n",
       "2  _01_Current and Capital Expenditure: Total R&D...   \n",
       "3  _01_Current and Capital Expenditure: Total R&D...   \n",
       "4  _01_Current and Capital Expenditure: Total R&D...   \n",
       "\n",
       "                    Footnotes   Year  \n",
       "0        1 and 6 and 8 and 20   4034  \n",
       "1  1 and 6 and 8 and 9 and 20   2019  \n",
       "2              1 and 8 and 20  92782  \n",
       "3        1 and 8 and 9 and 20  46437  \n",
       "4             8 and 19 and 20  24204  "
      ]
     },
     "execution_count": 18,
     "metadata": {},
     "output_type": "execute_result"
    }
   ],
   "source": [
    "df1.head()"
   ]
  },
  {
   "cell_type": "code",
   "execution_count": null,
   "metadata": {},
   "outputs": [],
   "source": []
  }
 ],
 "metadata": {
  "kernelspec": {
   "display_name": "Python 3",
   "language": "python",
   "name": "python3"
  },
  "language_info": {
   "codemirror_mode": {
    "name": "ipython",
    "version": 3
   },
   "file_extension": ".py",
   "mimetype": "text/x-python",
   "name": "python",
   "nbconvert_exporter": "python",
   "pygments_lexer": "ipython3",
   "version": "3.8.3"
  }
 },
 "nbformat": 4,
 "nbformat_minor": 4
}
